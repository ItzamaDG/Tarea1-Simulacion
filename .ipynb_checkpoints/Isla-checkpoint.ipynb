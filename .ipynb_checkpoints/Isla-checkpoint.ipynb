{
 "cells": [
  {
   "cell_type": "code",
   "execution_count": null,
   "id": "0101684a",
   "metadata": {},
   "outputs": [],
   "source": [
    "#Simulación de población en una isla\n",
    "poblacion_isla <- function(P0,pb,ps,pm,pr){\n",
    "    n <- 0\n",
    "    P_ant <- P0\n",
    "    \n",
    "    poblacion <- numeric()\n",
    "    nacimientos <- numeric () #Me refiero a los que no murieron ese año\n",
    " \n",
    "    \n",
    "    P_sig <- 0\n",
    "    \n",
    "    \n",
    "    while(n<120){\n",
    "        Fn <- 0\n",
    "        if(n<=14 ){\n",
    "            \n",
    "            Fn <- P0\n",
    "            SBn <- rbinom(1,Fn %% 2,pb)\n",
    "            SBn <- rbinom(1,SBn,ps)\n",
    "            \n",
    "            P_sig <- P_ant +SBn\n",
    "            poblacion <- append(poblacion,P_sig)\n",
    "            nacimientos<-append(nacimientos,SBn)\n",
    "            P_ant <- P_sig\n",
    "            #Al final de n = 0 tenemos p1\n",
    "            #Al final de n = 14 tenemos p1,p2,...p15\n",
    "            \n",
    "        }\n",
    "        else{\n",
    "            if(n==15){\n",
    "                #En el año 0 hubo nacimientos[1]\n",
    "                #Tienen probabilidad pr de llegar a la edad reproductiva\n",
    "                Fn <- rbinom(1,nacimientos[1],pr)\n",
    "                SBn <- rbinom(1,Fn %% 2, pb)\n",
    "                SBn <- rbinom(1,SBn,ps)\n",
    "                Dn <- rbinom(1,poblacion[n],pm)\n",
    "                \n",
    "                P_sig <- P_ant + SBn - Dn\n",
    "                poblacion <- append(poblacion,P_sig)\n",
    "                nacimientos<-append(nacimientos,SBn)\n",
    "                P_ant <- P_sig\n",
    "                \n",
    "            }else{\n",
    "                if(n<=34){\n",
    "                    Fn<-rbinom(1,Fn,1-pm)+rbinom(1,nacimientos[n-14],pr)\n",
    "                    SBn <- rbinom(1,Fn %% 2, pb)\n",
    "                    SBn <- rbinom(1,SBn,ps)\n",
    "                    Dn <- rbinom(1,poblacion[n],pm)\n",
    "                    \n",
    "                    P_sig <- P_ant + SBn - Dn\n",
    "                    poblacion <- append(poblacion,P_sig)\n",
    "                    nacimientos<-append(nacimientos,SBn)\n",
    "                    P_ant <- P_sig\n",
    "                    \n",
    "                }\n",
    "                else{\n",
    "                    \n",
    "                    Fn<-rbinom(1,Fn,1-pm)+rbinom(1,nacimientos[n-14],pr)-rbinom(1,nacimientos[n-34],pr*(1-pm)^20)\n",
    "                    SBn <- rbinom(1,Fn %% 2, pb)\n",
    "                    SBn <- rbinom(1,SBn,ps)\n",
    "                    Dn <- rbinom(1,poblacion[n],pm)\n",
    "                    \n",
    "                    P_sig <- P_ant + SBn - Dn\n",
    "                    poblacion <- append(poblacion,P_sig)\n",
    "                    nacimientos<-append(nacimientos,SBn)\n",
    "                    P_ant <- P_sig\n",
    "                }\n",
    "            }\n",
    "        }\n",
    "        n<-n+1\n",
    "    }\n",
    "    \n",
    "    return(poblacion)\n",
    "    \n",
    "    \n",
    "}\n",
    "    "
   ]
  },
  {
   "cell_type": "code",
   "execution_count": null,
   "id": "e22da764",
   "metadata": {},
   "outputs": [],
   "source": [
    "x<-poblacion_isla(6,0.7,0.7,0.3,0.8)\n",
    "length(x)"
   ]
  },
  {
   "cell_type": "code",
   "execution_count": null,
   "id": "08e40ac4",
   "metadata": {},
   "outputs": [],
   "source": [
    "rbinom(8,150,.4)"
   ]
  },
  {
   "cell_type": "code",
   "execution_count": 7,
   "id": "52c1f147",
   "metadata": {},
   "outputs": [
    {
     "name": "stdout",
     "output_type": "stream",
     "text": [
      "[1] 0\n",
      "[1] 1\n",
      "[1] 2\n",
      "[1] 3\n",
      "[1] 4\n",
      "[1] 5\n"
     ]
    }
   ],
   "source": [
    "poblacion_isla(3,0,0,0,0)"
   ]
  },
  {
   "cell_type": "code",
   "execution_count": 15,
   "id": "31fdfaac",
   "metadata": {},
   "outputs": [
    {
     "data": {
      "text/html": [
       "<style>\n",
       ".list-inline {list-style: none; margin:0; padding: 0}\n",
       ".list-inline>li {display: inline-block}\n",
       ".list-inline>li:not(:last-child)::after {content: \"\\00b7\"; padding: 0 .5ex}\n",
       "</style>\n",
       "<ol class=list-inline><li>1</li><li>2</li><li>3</li><li>4</li><li>5</li><li>10</li></ol>\n"
      ],
      "text/latex": [
       "\\begin{enumerate*}\n",
       "\\item 1\n",
       "\\item 2\n",
       "\\item 3\n",
       "\\item 4\n",
       "\\item 5\n",
       "\\item 10\n",
       "\\end{enumerate*}\n"
      ],
      "text/markdown": [
       "1. 1\n",
       "2. 2\n",
       "3. 3\n",
       "4. 4\n",
       "5. 5\n",
       "6. 10\n",
       "\n",
       "\n"
      ],
      "text/plain": [
       "[1]  1  2  3  4  5 10"
      ]
     },
     "metadata": {},
     "output_type": "display_data"
    },
    {
     "data": {
      "text/html": [
       "FALSE"
      ],
      "text/latex": [
       "FALSE"
      ],
      "text/markdown": [
       "FALSE"
      ],
      "text/plain": [
       "[1] FALSE"
      ]
     },
     "metadata": {},
     "output_type": "display_data"
    }
   ],
   "source": [
    "\n",
    "x <- rep(1:5)\n",
    "  \n",
    "# Using rep() method\n",
    "x<- append(x, 10)\n",
    "x\n",
    "4<2 && 4>3"
   ]
  },
  {
   "cell_type": "code",
   "execution_count": 18,
   "id": "8516d634",
   "metadata": {},
   "outputs": [
    {
     "data": {
      "text/html": [
       "12"
      ],
      "text/latex": [
       "12"
      ],
      "text/markdown": [
       "12"
      ],
      "text/plain": [
       "[1] 12"
      ]
     },
     "metadata": {},
     "output_type": "display_data"
    }
   ],
   "source": [
    "tail(x,1)+2"
   ]
  },
  {
   "cell_type": "code",
   "execution_count": 8,
   "id": "92ff44a9",
   "metadata": {},
   "outputs": [
    {
     "data": {
      "text/html": [
       "0"
      ],
      "text/latex": [
       "0"
      ],
      "text/markdown": [
       "0"
      ],
      "text/plain": [
       "[1] 0"
      ]
     },
     "metadata": {},
     "output_type": "display_data"
    }
   ],
   "source": [
    "p<-numeric(1)\n",
    "p[1]<-0\n",
    "p"
   ]
  },
  {
   "cell_type": "code",
   "execution_count": 12,
   "id": "903a1cb3",
   "metadata": {},
   "outputs": [],
   "source": [
    "x<-numeric()"
   ]
  },
  {
   "cell_type": "code",
   "execution_count": 14,
   "id": "7ee3f814",
   "metadata": {},
   "outputs": [
    {
     "data": {
      "text/html": [
       "10"
      ],
      "text/latex": [
       "10"
      ],
      "text/markdown": [
       "10"
      ],
      "text/plain": [
       "[1] 10"
      ]
     },
     "metadata": {},
     "output_type": "display_data"
    }
   ],
   "source": [
    "x<-append(x,10)\n",
    "x"
   ]
  },
  {
   "cell_type": "code",
   "execution_count": null,
   "id": "46092cb3",
   "metadata": {},
   "outputs": [],
   "source": []
  }
 ],
 "metadata": {
  "kernelspec": {
   "display_name": "R",
   "language": "R",
   "name": "ir"
  },
  "language_info": {
   "codemirror_mode": "r",
   "file_extension": ".r",
   "mimetype": "text/x-r-source",
   "name": "R",
   "pygments_lexer": "r",
   "version": "3.6.1"
  }
 },
 "nbformat": 4,
 "nbformat_minor": 5
}
