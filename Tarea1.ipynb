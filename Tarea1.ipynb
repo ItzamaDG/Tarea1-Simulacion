{
 "cells": [
  {
   "cell_type": "markdown",
   "id": "6d5b7fee",
   "metadata": {},
   "source": [
    "# Tarea 1"
   ]
  },
  {
   "cell_type": "code",
   "execution_count": 1,
   "id": "bfd4dedd",
   "metadata": {},
   "outputs": [],
   "source": [
    "set.seed(1984)"
   ]
  },
  {
   "cell_type": "code",
   "execution_count": 2,
   "id": "d990f303",
   "metadata": {},
   "outputs": [],
   "source": [
    "usePackage <- function(p) \n",
    "{\n",
    "  if (!is.element(p, installed.packages()[,1]))\n",
    "    install.packages(p, repos = \"https://cran.itam.mx/\")\n",
    "  suppressPackageStartupMessages(require(p, character.only = TRUE, quietly  = TRUE))\n",
    "}"
   ]
  },
  {
   "cell_type": "markdown",
   "id": "136fd3e1",
   "metadata": {},
   "source": [
    "# Problema 1"
   ]
  },
  {
   "cell_type": "code",
   "execution_count": 3,
   "id": "c8d915fb",
   "metadata": {},
   "outputs": [],
   "source": [
    "\n",
    "#Funcion amnesia, recibe un vector x numerico\n",
    "#Dos numeros t,s>0\n",
    "#Regresa |P(X>s)-P(X>t+s|X>t)|\n",
    "\n",
    "amnesia <- function(x,t,s){\n",
    "    p_s <- length(x[x>s])/length(x) # P(X>s)\n",
    "    n_s <- length(x[x>t])           # Número de elementos en X tal que X>t\n",
    "    p_ts <- length(x[x>t+s])/n_s    #P(X>t+s|X>t)\n",
    "    return (abs(p_s-p_ts))\n",
    "    \n",
    "}"
   ]
  },
  {
   "cell_type": "code",
   "execution_count": 4,
   "id": "9a759f5a",
   "metadata": {},
   "outputs": [],
   "source": [
    "\n",
    "X <- rexp(100,1)#Muestra aleatoria de 100 observaciones\n",
    "Y <- rexp(1000000,1)#Muestra aleatoria de 1000 observaciones\n",
    "t <- 0.5\n",
    "s <- 2"
   ]
  },
  {
   "cell_type": "code",
   "execution_count": 5,
   "id": "a7ddf8e9",
   "metadata": {},
   "outputs": [
    {
     "data": {
      "text/html": [
       "0.00655172413793104"
      ],
      "text/latex": [
       "0.00655172413793104"
      ],
      "text/markdown": [
       "0.00655172413793104"
      ],
      "text/plain": [
       "[1] 0.006551724"
      ]
     },
     "metadata": {},
     "output_type": "display_data"
    }
   ],
   "source": [
    "#Para una muestra con 100 observaciones\n",
    "amnesia(X,t,s)"
   ]
  },
  {
   "cell_type": "code",
   "execution_count": 6,
   "id": "fc566b1a",
   "metadata": {},
   "outputs": [
    {
     "data": {
      "text/html": [
       "0.000368329546559687"
      ],
      "text/latex": [
       "0.000368329546559687"
      ],
      "text/markdown": [
       "0.000368329546559687"
      ],
      "text/plain": [
       "[1] 0.0003683295"
      ]
     },
     "metadata": {},
     "output_type": "display_data"
    }
   ],
   "source": [
    "#Para una muestra con 1000,000 observaciones\n",
    "amnesia(Y,t,s)"
   ]
  },
  {
   "cell_type": "markdown",
   "id": "eb908f9b",
   "metadata": {},
   "source": [
    "Para ninguna de las dos muestras $\\mathbb{P}(X>t+s|X>t)=\\mathbb{P}(X>s)$.\n",
    "\n",
    "Sin embargo, la muestra con 1000,000 de observaciones tiene un error menor."
   ]
  },
  {
   "cell_type": "markdown",
   "id": "eaade32d",
   "metadata": {},
   "source": [
    "A continuación la solución exacta:\n",
    "$\\mathbb{P}(X>s)= 1-\\mathbb{P}(X\\leq s) = 1-F_{x}(s)$"
   ]
  },
  {
   "cell_type": "code",
   "execution_count": 7,
   "id": "58b1583a",
   "metadata": {},
   "outputs": [
    {
     "data": {
      "text/html": [
       "0.135335283236613"
      ],
      "text/latex": [
       "0.135335283236613"
      ],
      "text/markdown": [
       "0.135335283236613"
      ],
      "text/plain": [
       "[1] 0.1353353"
      ]
     },
     "metadata": {},
     "output_type": "display_data"
    }
   ],
   "source": [
    "#Probabilidad real\n",
    "1-pexp(s,1)"
   ]
  },
  {
   "cell_type": "code",
   "execution_count": 8,
   "id": "dcab8b4b",
   "metadata": {},
   "outputs": [
    {
     "data": {
      "text/html": [
       "0.11"
      ],
      "text/latex": [
       "0.11"
      ],
      "text/markdown": [
       "0.11"
      ],
      "text/plain": [
       "[1] 0.11"
      ]
     },
     "metadata": {},
     "output_type": "display_data"
    }
   ],
   "source": [
    "#Probabilidad dada por la muestra de tamaño 100\n",
    "length(X[X>s])/length(X)"
   ]
  },
  {
   "cell_type": "code",
   "execution_count": 9,
   "id": "f7b389b6",
   "metadata": {},
   "outputs": [
    {
     "data": {
      "text/html": [
       "0.135433"
      ],
      "text/latex": [
       "0.135433"
      ],
      "text/markdown": [
       "0.135433"
      ],
      "text/plain": [
       "[1] 0.135433"
      ]
     },
     "metadata": {},
     "output_type": "display_data"
    }
   ],
   "source": [
    "#Probabilidad dada por la muestra tamaño 1000,000\n",
    "length(Y[Y>s])/length(Y)"
   ]
  },
  {
   "cell_type": "markdown",
   "id": "9f30ba6a",
   "metadata": {},
   "source": [
    "Es mejor la aproximación dada por la muestra de tamaño 1000,000."
   ]
  },
  {
   "cell_type": "markdown",
   "id": "4971620c",
   "metadata": {},
   "source": [
    "# Problema 2 "
   ]
  },
  {
   "cell_type": "code",
   "execution_count": 10,
   "id": "809c1c8a",
   "metadata": {},
   "outputs": [],
   "source": [
    "usePackage('Rlab')"
   ]
  },
  {
   "cell_type": "code",
   "execution_count": 11,
   "id": "ebd60081",
   "metadata": {},
   "outputs": [],
   "source": [
    "#Generamos 500 observaciones bernoulli con p = 1/2\n",
    "#Asociamos un 1 al éximo \"cae sol en el lanzamiento de la moneda\"\n",
    "N <- 500\n",
    "x <- rbern(N, 0.5)\n",
    "#Calculamos ahora la proporcion de soles hasta cada tiro\n",
    "proporcion_soles <- cumsum(x)/1:N"
   ]
  },
  {
   "cell_type": "code",
   "execution_count": 12,
   "id": "50254c20",
   "metadata": {},
   "outputs": [
    {
     "data": {
      "image/png": "[encoded data removed]",
      "text/plain": [
       "plot without title"
      ]
     },
     "metadata": {},
     "output_type": "display_data"
    }
   ],
   "source": [
    "#Realizamos la gráfica\n",
    "plot(1:N,proporcion_soles,type = 'l',ylim =c(0,1),xlab = 'No. de lanzamientos',\n",
    "     ylab = 'Proporción de Soles/Lanzamientos',col = 'blue')\n",
    "abline(h=0.5)"
   ]
  },
  {
   "cell_type": "code",
   "execution_count": 13,
   "id": "1dc64937",
   "metadata": {},
   "outputs": [
    {
     "data": {
      "text/html": [],
      "text/latex": [],
      "text/markdown": [],
      "text/plain": [
       "integer(0)"
      ]
     },
     "metadata": {},
     "output_type": "display_data"
    },
    {
     "data": {
      "image/png": "[encoded data removed]",
      "text/plain": [
       "plot without title"
      ]
     },
     "metadata": {},
     "output_type": "display_data"
    }
   ],
   "source": [
    "#Calculemos ahora la diferencia entre soles y águilas\n",
    "difsoles_aguilas <- (2*cumsum(x)-1:N)/1:N\n",
    "#Realizamos la gráfica\n",
    "plot(1:N,difsoles_aguilas,type = 'l',xlab = 'No. de lanzamientos',\n",
    "     ylab = 'Diferencia entre soles y águilas',col = 'red')+abline(h=0)\n"
   ]
  },
  {
   "cell_type": "markdown",
   "id": "6e670eb5",
   "metadata": {},
   "source": [
    "Que $(2r-n)/n$ tienda a cero, cuando $n$ se hace cada vez más grande, significa que para $n$ muy grandes la proporción de soles y águilas es la misma, $50/50$"
   ]
  },
  {
   "cell_type": "markdown",
   "id": "dc7797e9",
   "metadata": {},
   "source": []
  },
  {
   "cell_type": "markdown",
   "id": "9ddb8394",
   "metadata": {},
   "source": [
    "# Problema 3"
   ]
  },
  {
   "cell_type": "markdown",
   "id": "a79c66a1",
   "metadata": {},
   "source": [
    "Una canoa que contiene tres mujeres y tres hombres llega a una isla deshabitada.\n",
    "Discutan la información que requieren para modelar la sociedad de estos individuos\n",
    "y cómo el tamaño de la población crece con el tiempo. Por ejemplo, pueden hacer\n",
    "supuestos como los siguientes y hacer modificaciones para ver cómo cambiarían\n",
    "las proyecciones que hagan:\n",
    "\n",
    "Todas las personas son adultos (digamos 20 años todos). La edad de las mujeres es importante para el tema de capacidad reproductiva.\n",
    "\n",
    "Las parejas se determinan al inicio y no hay cambios de pareja a lo largo del\n",
    "tiempo\n",
    "\n",
    "Cada pareja puede tener una bebé al año con probabilidad p, y éste sobrevive\n",
    "con probabilidad w.\n"
   ]
  },
  {
   "cell_type": "markdown",
   "id": "587f9e54",
   "metadata": {},
   "source": [
    "Podemos hacer los siguientes supuestos:\n",
    "\n",
    "- La unidad de tiempo es el año\n",
    "- Cada pareja tiene un hijo al año\n",
    "- Que una pareja tenga un hijo o no es independiente del resto de las parejas\n",
    "- La supervivencia de un niño recien nacido es independiente de la supervivencia del resto de niños\n",
    "- La población en edad reproductiva se mantiene equilibrada, aproximadamente 50% hombres y 50% mujeres\n",
    "- Las personas en edad reproductiva tienen la posibilidad de reproducirse antes de morir, es decir, mueren al final del año\n",
    "- Sea $P_n$ la población de la isla al inicio del año n\n",
    "\n",
    "- Sea $SB_n$ los niños que nacieron y sobrevivieron en el tiempo $[n,n+1]$\n",
    "- Sea $B_n$ los nacimientos totales en el mismo intervalo de tiempo\n",
    "- Sea $D_n$ las muertes de personas no recien nacidas en el mismo intervalo de tiempo\n",
    "- Una pareja tiene un hijo con probabilidad $p_b$\n",
    "- Un niño recien nacido sobrevive con probabilidad $p_s$\n",
    "- Después del año en el que una persona nacio, tiene una probabilidad $q_m$ de sobrevivir en ese año\n",
    "- Una persona no recien nacida sobrevive independientemente de la supervivencia de otra.\n",
    "- Sea $F_n$ el número de personas en edad reproductiva\n",
    "\n",
    "Entonces tenemos lo siguiente:\n"
   ]
  },
  {
   "cell_type": "markdown",
   "id": "9e9a67de",
   "metadata": {},
   "source": [
    "Si consideramos que una persona entra en edad reproductiva a los 15 años, entonces para $n\\leq 15$ tenemos que las personas en edad reproductiva es a lo más $P_0$.\n",
    "Entonces, tenemos lo siguiente:\n",
    "\n",
    "- $B_n|F_n=f_n \\sim Bin(piso(\\frac{f_n}{2}),p_b)$\n",
    "- $SB_n|B_n=b_n \\sim Bin(b_n,p_s)$\n",
    "- $F_{n+1}|F_n=f_n \\sim Bin(f_n,q_m)$\n",
    "\n",
    "Notar que  $F_n-F_{n+1}$ es el numero de personas en edad reproductiva que murieron ese año, entonces las muertes son\n",
    "\n",
    "- Muertes en personas que no estan en edad reproductiva es $Bin(p_n-f_n,1-q_m)$\n",
    "- Obtener $D_n$ Sumamos el punto anterior y  $F_n-F_{n+1}$\n",
    "\n",
    "Finalmente\n",
    "$P_{n+1} = P_n + SB_n-D_n$\n",
    "\n",
    "\n",
    "El proceso comienza con\n",
    "\n",
    "$F_n$ = P_0\n",
    "La población en edad reproductiva al inicio son las 6 personas que hay en la isla"
   ]
  },
  {
   "cell_type": "code",
   "execution_count": 14,
   "id": "180181b1",
   "metadata": {},
   "outputs": [],
   "source": [
    "poblacion_isla <- function(P_0,p_b,p_s,q_m){\n",
    "    n<-0\n",
    "    P_ant <- P_0\n",
    "    poblacion <- numeric()\n",
    "    F_actual <- P_0\n",
    "    p_m <- 1 - q_m\n",
    "    \n",
    "    \n",
    "    while(n<=14){\n",
    "        nacimientos <-rbinom(1,F_actual %/% 2, p_b)\n",
    "        nacimientos <- rbinom(1,nacimientos,p_s)\n",
    "        F_siguiente <- rbinom(1,F_actual,q_m)\n",
    "        muertes <- rbinom(1,P_ant-F_actual,p_m)+(F_actual-F_siguiente)\n",
    "        P_sig <- P_ant+nacimientos-muertes\n",
    "        poblacion <- append(poblacion,P_sig)\n",
    "        P_ant <- P_sig\n",
    "        F_actual <- F_siguiente\n",
    "        n<-n+1\n",
    "\n",
    "    }\n",
    "    \n",
    "    return(poblacion)\n",
    "}"
   ]
  },
  {
   "cell_type": "code",
   "execution_count": 15,
   "id": "f57a84dc",
   "metadata": {},
   "outputs": [],
   "source": [
    "#Realizaremos la simulacion 6 veces con los mismos parámetros y obtendremos la media del tiempo donde alcanzan las 12 personas\n",
    "#en la isla, si los alcanza\n",
    "\n",
    "tiempos <- numeric()\n",
    "for(i in 1:100){\n",
    "    x<-poblacion_isla(6,0.9,0.8,0.95)\n",
    "    x<-ifelse(x>=12,1,0)\n",
    "    if(sum(x)>0){\n",
    "        tiempos<-append(tiempos,match(1,x))\n",
    "    }\n",
    "}\n"
   ]
  },
  {
   "cell_type": "code",
   "execution_count": 16,
   "id": "6db72cb7",
   "metadata": {},
   "outputs": [
    {
     "name": "stdout",
     "output_type": "stream",
     "text": [
      "[1] \"Porcentaje de veces que sí alcanzan a duplicar su población:  96\"\n",
      "[1] \"Año promedio en el cual alcanzan a duplicar su población 4.65625\"\n"
     ]
    }
   ],
   "source": [
    "print(paste(\"Porcentaje de veces que sí alcanzan a duplicar su población: \",length(tiempos)))\n",
    "print(paste(\"Año promedio en el cual alcanzan a duplicar su población\",mean(tiempos)))\n"
   ]
  },
  {
   "cell_type": "markdown",
   "id": "b6ac5772",
   "metadata": {},
   "source": [
    "\n",
    "# Problema 6"
   ]
  },
  {
   "cell_type": "markdown",
   "id": "7a5648f0",
   "metadata": {},
   "source": [
    "Función para obtener $Z_n$ a partir de $Z_{n-1}$ en el método del cuadrado medio de John von Neumann"
   ]
  },
  {
   "cell_type": "code",
   "execution_count": 17,
   "id": "886c506b",
   "metadata": {},
   "outputs": [],
   "source": [
    "\n",
    "\n",
    "Z_n <- function(Z_0){\n",
    "    x <- Z_0^2\n",
    "    x <- as.character(x)\n",
    "    x <- as.numeric(unlist(strsplit(x, \"\")))\n",
    "    if(length(x)==4){\n",
    "        #4321\n",
    "        Z_n <- x[2]*10+x[3] #32\n",
    "    }else{\n",
    "        \n",
    "        if(length(x)==3){\n",
    "            #0-321\n",
    "            Z_n <- x[1]*10+x[2]#32\n",
    "        }else{\n",
    "            if(length(x)==2){\n",
    "                #00-21\n",
    "                Z_n <- x[1]#02\n",
    "            }else{\n",
    "                #000-1\n",
    "                Z_n<-0\n",
    "            }\n",
    "        }\n",
    "    }\n",
    "    return(Z_n)\n",
    "    \n",
    "\n",
    "\n",
    "}"
   ]
  },
  {
   "cell_type": "code",
   "execution_count": 18,
   "id": "42ada3f5",
   "metadata": {},
   "outputs": [],
   "source": [
    "cuadrado_medio_rec <- function(Z_0,vector){\n",
    "    if(Z_0 == 0 || Z_0 %in% vector){\n",
    "        return (vector)\n",
    "    }\n",
    "    \n",
    "    vector<-append(vector,Z_0)\n",
    "    x <- Z_0^2\n",
    "    x <- as.character(x)\n",
    "    x <- as.numeric(unlist(strsplit(x, \"\")))\n",
    "    if(length(x)==4){\n",
    "        #4321\n",
    "        Z_n <- x[2]*10+x[3] #32\n",
    "    }else{\n",
    "        \n",
    "        if(length(x)==3){\n",
    "            #0-321\n",
    "            Z_n <- x[1]*10+x[2]#32\n",
    "        }else{\n",
    "            if(length(x)==2){\n",
    "                #00-21\n",
    "                Z_n <- x[1]#02\n",
    "            }else{\n",
    "                #000-1\n",
    "                Z_n<-0\n",
    "            }\n",
    "        }\n",
    "    }\n",
    "    \n",
    "    return (cuadrado_medio_rec(Z_n,vector))\n",
    "    \n",
    "\n",
    "}\n",
    "\n",
    "cuadrado_medio <- function(Z_0){\n",
    "    vector <- numeric()\n",
    "    return (cuadrado_medio_rec(Z_0,vector))\n",
    "}"
   ]
  },
  {
   "cell_type": "code",
   "execution_count": 19,
   "id": "4e4af6df",
   "metadata": {},
   "outputs": [
    {
     "name": "stdout",
     "output_type": "stream",
     "text": [
      "[1] \"El ciclo con semilla Z_0: 1\"\n",
      "[1] 1\n",
      "[1] \"El ciclo con semilla Z_0: 2\"\n",
      "[1] 2\n",
      "[1] \"El ciclo con semilla Z_0: 3\"\n",
      "[1] 3\n",
      "[1] \"El ciclo con semilla Z_0: 4\"\n",
      "[1] 4 1\n",
      "[1] \"El ciclo con semilla Z_0: 5\"\n",
      "[1] 5 2\n",
      "[1] \"El ciclo con semilla Z_0: 6\"\n",
      "[1] 6 3\n",
      "[1] \"El ciclo con semilla Z_0: 7\"\n",
      "[1] 7 4 1\n",
      "[1] \"El ciclo con semilla Z_0: 8\"\n",
      "[1] 8 6 3\n",
      "[1] \"El ciclo con semilla Z_0: 9\"\n",
      "[1] 9 8 6 3\n",
      "[1] \"El ciclo con semilla Z_0: 10\"\n",
      "[1] 10\n",
      "[1] \"El ciclo con semilla Z_0: 11\"\n",
      "[1] 11 12 14 19 36 29 84  5  2\n",
      "[1] \"El ciclo con semilla Z_0: 12\"\n",
      "[1] 12 14 19 36 29 84  5  2\n",
      "[1] \"El ciclo con semilla Z_0: 13\"\n",
      "[1] 13 16 25 62 84  5  2\n",
      "[1] \"El ciclo con semilla Z_0: 14\"\n",
      "[1] 14 19 36 29 84  5  2\n",
      "[1] \"El ciclo con semilla Z_0: 15\"\n",
      "[1] 15 22 48 30 90 10\n",
      "[1] \"El ciclo con semilla Z_0: 16\"\n",
      "[1] 16 25 62 84  5  2\n",
      "[1] \"El ciclo con semilla Z_0: 17\"\n",
      "[1] 17 28 78  8  6  3\n",
      "[1] \"El ciclo con semilla Z_0: 18\"\n",
      "[1] 18 32  2\n",
      "[1] \"El ciclo con semilla Z_0: 19\"\n",
      "[1] 19 36 29 84  5  2\n",
      "[1] \"El ciclo con semilla Z_0: 20\"\n",
      "[1] 20 40 60\n",
      "[1] \"El ciclo con semilla Z_0: 21\"\n",
      "[1] 21 44 93 64  9  8  6  3\n",
      "[1] \"El ciclo con semilla Z_0: 22\"\n",
      "[1] 22 48 30 90 10\n",
      "[1] \"El ciclo con semilla Z_0: 23\"\n",
      "[1] 23 52 70 90 10\n",
      "[1] \"El ciclo con semilla Z_0: 24\"\n",
      "[1] 24 57\n",
      "[1] \"El ciclo con semilla Z_0: 25\"\n",
      "[1] 25 62 84  5  2\n",
      "[1] \"El ciclo con semilla Z_0: 26\"\n",
      "[1] 26 67 48 30 90 10\n",
      "[1] \"El ciclo con semilla Z_0: 27\"\n",
      "[1] 27 72 18 32  2\n",
      "[1] \"El ciclo con semilla Z_0: 28\"\n",
      "[1] 28 78  8  6  3\n",
      "[1] \"El ciclo con semilla Z_0: 29\"\n",
      "[1] 29 84  5  2\n",
      "[1] \"El ciclo con semilla Z_0: 30\"\n",
      "[1] 30 90 10\n",
      "[1] \"El ciclo con semilla Z_0: 31\"\n",
      " [1] 31 96 21 44 93 64  9  8  6  3\n",
      "[1] \"El ciclo con semilla Z_0: 32\"\n",
      "[1] 32  2\n",
      "[1] \"El ciclo con semilla Z_0: 33\"\n",
      "[1] 33  8  6  3\n",
      "[1] \"El ciclo con semilla Z_0: 34\"\n",
      "[1] 34 15 22 48 30 90 10\n",
      "[1] \"El ciclo con semilla Z_0: 35\"\n",
      "[1] 35 22 48 30 90 10\n",
      "[1] \"El ciclo con semilla Z_0: 36\"\n",
      "[1] 36 29 84  5  2\n",
      "[1] \"El ciclo con semilla Z_0: 37\"\n",
      "[1] 37 36 29 84  5  2\n",
      "[1] \"El ciclo con semilla Z_0: 38\"\n",
      "[1] 38 44 93 64  9  8  6  3\n",
      "[1] \"El ciclo con semilla Z_0: 39\"\n",
      "[1] 39 52 70 90 10\n",
      "[1] \"El ciclo con semilla Z_0: 40\"\n",
      "[1] 40 60\n",
      "[1] \"El ciclo con semilla Z_0: 41\"\n",
      "[1] 41 68 62 84  5  2\n",
      "[1] \"El ciclo con semilla Z_0: 42\"\n",
      " [1] 42 76 77 92 46 11 12 14 19 36 29 84  5  2\n",
      "[1] \"El ciclo con semilla Z_0: 43\"\n",
      "[1] 43 84  5  2\n",
      "[1] \"El ciclo con semilla Z_0: 44\"\n",
      "[1] 44 93 64  9  8  6  3\n",
      "[1] \"El ciclo con semilla Z_0: 45\"\n",
      "[1] 45  2\n",
      "[1] \"El ciclo con semilla Z_0: 46\"\n",
      " [1] 46 11 12 14 19 36 29 84  5  2\n",
      "[1] \"El ciclo con semilla Z_0: 47\"\n",
      "[1] 47 20 40 60\n",
      "[1] \"El ciclo con semilla Z_0: 48\"\n",
      "[1] 48 30 90 10\n",
      "[1] \"El ciclo con semilla Z_0: 49\"\n",
      "[1] 49 40 60\n",
      "[1] \"El ciclo con semilla Z_0: 50\"\n",
      "[1] 50\n",
      "[1] \"El ciclo con semilla Z_0: 51\"\n",
      "[1] 51 60\n",
      "[1] \"El ciclo con semilla Z_0: 52\"\n",
      "[1] 52 70 90 10\n",
      "[1] \"El ciclo con semilla Z_0: 53\"\n",
      "[1] 53 80 40 60\n",
      "[1] \"El ciclo con semilla Z_0: 54\"\n",
      "[1] 54 91 28 78  8  6  3\n",
      "[1] \"El ciclo con semilla Z_0: 55\"\n",
      "[1] 55  2\n",
      "[1] \"El ciclo con semilla Z_0: 56\"\n",
      "[1] 56 13 16 25 62 84  5  2\n",
      "[1] \"El ciclo con semilla Z_0: 57\"\n",
      "[1] 57 24\n",
      "[1] \"El ciclo con semilla Z_0: 58\"\n",
      "[1] 58 36 29 84  5  2\n",
      "[1] \"El ciclo con semilla Z_0: 59\"\n",
      "[1] 59 48 30 90 10\n",
      "[1] \"El ciclo con semilla Z_0: 60\"\n",
      "[1] 60\n",
      "[1] \"El ciclo con semilla Z_0: 61\"\n",
      "[1] 61 72 18 32  2\n",
      "[1] \"El ciclo con semilla Z_0: 62\"\n",
      "[1] 62 84  5  2\n",
      "[1] \"El ciclo con semilla Z_0: 63\"\n",
      " [1] 63 96 21 44 93 64  9  8  6  3\n",
      "[1] \"El ciclo con semilla Z_0: 64\"\n",
      "[1] 64  9  8  6  3\n",
      "[1] \"El ciclo con semilla Z_0: 65\"\n",
      "[1] 65 22 48 30 90 10\n",
      "[1] \"El ciclo con semilla Z_0: 66\"\n",
      "[1] 66 35 22 48 30 90 10\n",
      "[1] \"El ciclo con semilla Z_0: 67\"\n",
      "[1] 67 48 30 90 10\n",
      "[1] \"El ciclo con semilla Z_0: 68\"\n",
      "[1] 68 62 84  5  2\n",
      "[1] \"El ciclo con semilla Z_0: 69\"\n",
      " [1] 69 76 77 92 46 11 12 14 19 36 29 84  5  2\n",
      "[1] \"El ciclo con semilla Z_0: 70\"\n",
      "[1] 70 90 10\n",
      "[1] \"El ciclo con semilla Z_0: 71\"\n",
      "[1] 71  4  1\n",
      "[1] \"El ciclo con semilla Z_0: 72\"\n",
      "[1] 72 18 32  2\n",
      "[1] \"El ciclo con semilla Z_0: 73\"\n",
      "[1] 73 32  2\n",
      "[1] \"El ciclo con semilla Z_0: 74\"\n",
      "[1] 74 47 20 40 60\n",
      "[1] \"El ciclo con semilla Z_0: 75\"\n",
      "[1] 75 62 84  5  2\n",
      "[1] \"El ciclo con semilla Z_0: 76\"\n",
      " [1] 76 77 92 46 11 12 14 19 36 29 84  5  2\n",
      "[1] \"El ciclo con semilla Z_0: 77\"\n",
      " [1] 77 92 46 11 12 14 19 36 29 84  5  2\n",
      "[1] \"El ciclo con semilla Z_0: 78\"\n",
      "[1] 78  8  6  3\n",
      "[1] \"El ciclo con semilla Z_0: 79\"\n",
      "[1] 79 24 57\n",
      "[1] \"El ciclo con semilla Z_0: 80\"\n",
      "[1] 80 40 60\n",
      "[1] \"El ciclo con semilla Z_0: 81\"\n",
      "[1] 81 56 13 16 25 62 84  5  2\n",
      "[1] \"El ciclo con semilla Z_0: 82\"\n",
      "[1] 82 72 18 32  2\n",
      "[1] \"El ciclo con semilla Z_0: 83\"\n",
      "[1] 83 88 74 47 20 40 60\n",
      "[1] \"El ciclo con semilla Z_0: 84\"\n",
      "[1] 84  5  2\n",
      "[1] \"El ciclo con semilla Z_0: 85\"\n",
      "[1] 85 22 48 30 90 10\n",
      "[1] \"El ciclo con semilla Z_0: 86\"\n",
      "[1] 86 39 52 70 90 10\n",
      "[1] \"El ciclo con semilla Z_0: 87\"\n",
      "[1] 87 56 13 16 25 62 84  5  2\n",
      "[1] \"El ciclo con semilla Z_0: 88\"\n",
      "[1] 88 74 47 20 40 60\n",
      "[1] \"El ciclo con semilla Z_0: 89\"\n",
      " [1] 89 92 46 11 12 14 19 36 29 84  5  2\n",
      "[1] \"El ciclo con semilla Z_0: 90\"\n",
      "[1] 90 10\n",
      "[1] \"El ciclo con semilla Z_0: 91\"\n",
      "[1] 91 28 78  8  6  3\n",
      "[1] \"El ciclo con semilla Z_0: 92\"\n",
      " [1] 92 46 11 12 14 19 36 29 84  5  2\n",
      "[1] \"El ciclo con semilla Z_0: 93\"\n",
      "[1] 93 64  9  8  6  3\n",
      "[1] \"El ciclo con semilla Z_0: 94\"\n",
      "[1] 94 83 88 74 47 20 40 60\n",
      "[1] \"El ciclo con semilla Z_0: 95\"\n",
      "[1] 95  2\n",
      "[1] \"El ciclo con semilla Z_0: 96\"\n",
      "[1] 96 21 44 93 64  9  8  6  3\n",
      "[1] \"El ciclo con semilla Z_0: 97\"\n",
      "[1] 97 40 60\n",
      "[1] \"El ciclo con semilla Z_0: 98\"\n",
      "[1] 98 60\n",
      "[1] \"El ciclo con semilla Z_0: 99\"\n",
      "[1] 99 80 40 60\n"
     ]
    }
   ],
   "source": [
    "#Ahora enlistamos todos los ciclos.\n",
    "max = 0\n",
    "for(i in 1:99){\n",
    "    print(paste('El ciclo con semilla Z_0:',i))\n",
    "    x<- cuadrado_medio(i)\n",
    "    if(length(x)>max){\n",
    "        max = length(x)\n",
    "    }\n",
    "    print(cuadrado_medio(i))\n",
    "}"
   ]
  },
  {
   "cell_type": "code",
   "execution_count": 20,
   "id": "11cbad2f",
   "metadata": {},
   "outputs": [
    {
     "data": {
      "text/html": [
       "14"
      ],
      "text/latex": [
       "14"
      ],
      "text/markdown": [
       "14"
      ],
      "text/plain": [
       "[1] 14"
      ]
     },
     "metadata": {},
     "output_type": "display_data"
    }
   ],
   "source": [
    "#El tamaño máximo del ciclo es\n",
    "max"
   ]
  },
  {
   "cell_type": "markdown",
   "id": "b3c03e65",
   "metadata": {},
   "source": [
    "Lo cual significa que, partiendo de una semilla de dos cifras, podemos generar un máximo de catorce números distintos antes de que comience un ciclo, o bien, degenere a cero."
   ]
  },
  {
   "cell_type": "code",
   "execution_count": null,
   "id": "3af4bc19",
   "metadata": {},
   "outputs": [],
   "source": []
  },
  {
   "cell_type": "code",
   "execution_count": null,
   "id": "e589eaaf",
   "metadata": {},
   "outputs": [],
   "source": []
  }
 ],
 "metadata": {
  "kernelspec": {
   "display_name": "R",
   "language": "R",
   "name": "ir"
  },
  "language_info": {
   "codemirror_mode": "r",
   "file_extension": ".r",
   "mimetype": "text/x-r-source",
   "name": "R",
   "pygments_lexer": "r",
   "version": "3.6.1"
  }
 },
 "nbformat": 4,
 "nbformat_minor": 5
}
