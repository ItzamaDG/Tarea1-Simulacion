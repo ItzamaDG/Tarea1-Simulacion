{
 "cells": [
  {
   "cell_type": "markdown",
   "id": "316d8080",
   "metadata": {},
   "source": [
    "# Tarea 1-Estadística Aplicada II"
   ]
  },
  {
   "cell_type": "code",
   "execution_count": 1,
   "id": "aea24138",
   "metadata": {},
   "outputs": [],
   "source": [
    "usePackage <- function(p) \n",
    "{\n",
    "  if (!is.element(p, installed.packages()[,1]))\n",
    "    install.packages(p, repos = \"https://cran.itam.mx/\")\n",
    "  suppressPackageStartupMessages(require(p, character.only = TRUE, quietly  = TRUE))\n",
    "}"
   ]
  },
  {
   "cell_type": "code",
   "execution_count": 2,
   "id": "75586d4c",
   "metadata": {},
   "outputs": [
    {
     "name": "stderr",
     "output_type": "stream",
     "text": [
      "Warning message:\n",
      "\"package 'hrbrthemes' was built under R version 3.6.3\""
     ]
    }
   ],
   "source": [
    "usePackage(\"ggplot2\")\n",
    "usePackage(\"hrbrthemes\")"
   ]
  },
  {
   "cell_type": "code",
   "execution_count": 3,
   "id": "6ad3eeeb",
   "metadata": {},
   "outputs": [
    {
     "data": {
      "text/html": [
       "<table class=\"dataframe\">\n",
       "<caption>A data.frame: 6 × 2</caption>\n",
       "<thead>\n",
       "\t<tr><th></th><th scope=col>Cociente</th><th scope=col>Acres</th></tr>\n",
       "\t<tr><th></th><th scope=col>&lt;dbl&gt;</th><th scope=col>&lt;dbl&gt;</th></tr>\n",
       "</thead>\n",
       "<tbody>\n",
       "\t<tr><th scope=row>1</th><td>1.00</td><td>1.71</td></tr>\n",
       "\t<tr><th scope=row>2</th><td>1.08</td><td>1.52</td></tr>\n",
       "\t<tr><th scope=row>3</th><td>1.15</td><td>1.29</td></tr>\n",
       "\t<tr><th scope=row>4</th><td>1.15</td><td>3.09</td></tr>\n",
       "\t<tr><th scope=row>5</th><td>1.20</td><td>2.21</td></tr>\n",
       "\t<tr><th scope=row>6</th><td>1.30</td><td>2.26</td></tr>\n",
       "</tbody>\n",
       "</table>\n"
      ],
      "text/latex": [
       "A data.frame: 6 × 2\n",
       "\\begin{tabular}{r|ll}\n",
       "  & Cociente & Acres\\\\\n",
       "  & <dbl> & <dbl>\\\\\n",
       "\\hline\n",
       "\t1 & 1.00 & 1.71\\\\\n",
       "\t2 & 1.08 & 1.52\\\\\n",
       "\t3 & 1.15 & 1.29\\\\\n",
       "\t4 & 1.15 & 3.09\\\\\n",
       "\t5 & 1.20 & 2.21\\\\\n",
       "\t6 & 1.30 & 2.26\\\\\n",
       "\\end{tabular}\n"
      ],
      "text/markdown": [
       "\n",
       "A data.frame: 6 × 2\n",
       "\n",
       "| <!--/--> | Cociente &lt;dbl&gt; | Acres &lt;dbl&gt; |\n",
       "|---|---|---|\n",
       "| 1 | 1.00 | 1.71 |\n",
       "| 2 | 1.08 | 1.52 |\n",
       "| 3 | 1.15 | 1.29 |\n",
       "| 4 | 1.15 | 3.09 |\n",
       "| 5 | 1.20 | 2.21 |\n",
       "| 6 | 1.30 | 2.26 |\n",
       "\n"
      ],
      "text/plain": [
       "  Cociente Acres\n",
       "1 1.00     1.71 \n",
       "2 1.08     1.52 \n",
       "3 1.15     1.29 \n",
       "4 1.15     3.09 \n",
       "5 1.20     2.21 \n",
       "6 1.30     2.26 "
      ]
     },
     "metadata": {},
     "output_type": "display_data"
    }
   ],
   "source": [
    "Y <- c(1.71,1.52,1.29,3.09,2.21,2.26,2.4,2.1,1.96,2.09,\n",
    "    2.02,1.31,2.17,2.28,2.41,2.23,3.04,2.06,2.73,2.36)\n",
    "\n",
    "X <- c(1,1.08,1.15,1.15,1.2,1.3,1.37,1.37,1.43,1.46,\n",
    "    1.52,1.57,1.65,1.65,1.65,1.66,1.87,2.03,2.05,2.3)\n",
    "\n",
    "datos_acres <- data.frame(\n",
    "\"Cociente\" = X,\n",
    "\"Acres\" = Y\n",
    ")\n",
    "\n",
    "head(datos_acres)"
   ]
  },
  {
   "cell_type": "code",
   "execution_count": 4,
   "id": "fa21719c",
   "metadata": {},
   "outputs": [
    {
     "name": "stderr",
     "output_type": "stream",
     "text": [
      "Warning message:\n",
      "\"package 'writexl' was built under R version 3.6.3\""
     ]
    }
   ],
   "source": [
    "usePackage(\"writexl\")\n",
    "write_xlsx(datos_acres,\"datosAcres.xlsx\")"
   ]
  },
  {
   "cell_type": "code",
   "execution_count": 5,
   "id": "96b8d87e",
   "metadata": {},
   "outputs": [
    {
     "data": {
      "image/png": "[encoded data removed]",
      "text/plain": [
       "plot without title"
      ]
     },
     "metadata": {},
     "output_type": "display_data"
    }
   ],
   "source": [
    "p1 <- ggplot(datos_acres, aes(x=Cociente, y=Acres)) + \n",
    "  geom_point( color=\"#69b3a2\",size=3)+ggtitle(\"a) Gráfica de Dispersión\")\n",
    "p1"
   ]
  },
  {
   "cell_type": "markdown",
   "id": "b3b1d441",
   "metadata": {},
   "source": [
    " b) ¿Cree que exista una relación entre la intensidad del trabajo agrícola y el cociente consumidor /\n",
    "productor?\n",
    "\n",
    "Sí, la gráfica sugiere que mientras más grande es el cociente consumidor/productor por hogar mayor es el número de acres trabajados por ese hogar."
   ]
  },
  {
   "cell_type": "markdown",
   "id": "743ce27f",
   "metadata": {},
   "source": [
    "c)  Ajuste una recta de regresión estimando los parámetros de la recta de regresión y la varianza.\n"
   ]
  },
  {
   "cell_type": "code",
   "execution_count": 6,
   "id": "7cbd21ba",
   "metadata": {},
   "outputs": [],
   "source": [
    "#Calculamos las medias\n",
    "media_cociente <- mean(datos_acres$Cociente)\n",
    "media_acres <- mean(datos_acres$Acres)"
   ]
  },
  {
   "cell_type": "code",
   "execution_count": 7,
   "id": "6e310b9b",
   "metadata": {},
   "outputs": [],
   "source": [
    "#Sxx\n",
    "Sxx <- sum((datos_acres$Cociente-media_cociente)^2)\n",
    "Sxy <- sum((datos_acres$Cociente-media_cociente)*(datos_acres$Acres-media_acres))\n"
   ]
  },
  {
   "cell_type": "code",
   "execution_count": 8,
   "id": "8392eaf0",
   "metadata": {},
   "outputs": [
    {
     "data": {
      "text/html": [
       "<style>\n",
       ".list-inline {list-style: none; margin:0; padding: 0}\n",
       ".list-inline>li {display: inline-block}\n",
       ".list-inline>li:not(:last-child)::after {content: \"\\00b7\"; padding: 0 .5ex}\n",
       "</style>\n",
       "<ol class=list-inline><li>1.37564454847979</li><li>0.51632006009206</li></ol>\n"
      ],
      "text/latex": [
       "\\begin{enumerate*}\n",
       "\\item 1.37564454847979\n",
       "\\item 0.51632006009206\n",
       "\\end{enumerate*}\n"
      ],
      "text/markdown": [
       "1. 1.37564454847979\n",
       "2. 0.51632006009206\n",
       "\n",
       "\n"
      ],
      "text/plain": [
       "[1] 1.3756445 0.5163201"
      ]
     },
     "metadata": {},
     "output_type": "display_data"
    }
   ],
   "source": [
    "#Estimamos \\beta_1 y \\beta_0\n",
    "beta_1 <- Sxy/Sxx\n",
    "beta_0<-media_acres-beta_1*media_cociente\n",
    "c(beta_0,beta_1)"
   ]
  },
  {
   "cell_type": "code",
   "execution_count": 9,
   "id": "b604a99a",
   "metadata": {},
   "outputs": [
    {
     "data": {
      "image/png": "[encoded data removed]",
      "text/plain": [
       "plot without title"
      ]
     },
     "metadata": {},
     "output_type": "display_data"
    }
   ],
   "source": [
    "p2 <- ggplot(datos_acres, aes(x=Cociente, y=Acres)) + \n",
    "  geom_point( color=\"#69b3a2\",size=3)+ggtitle(\"Gráfica de Dispersión y Modelo Ajustado\")+geom_abline(\n",
    "      slope = beta_1,intercept = beta_0,color = \"#0F71BB\")\n",
    "p2\n"
   ]
  },
  {
   "cell_type": "code",
   "execution_count": 10,
   "id": "5daa910f",
   "metadata": {},
   "outputs": [
    {
     "data": {
      "text/html": [
       "0.20640472885302"
      ],
      "text/latex": [
       "0.20640472885302"
      ],
      "text/markdown": [
       "0.20640472885302"
      ],
      "text/plain": [
       "[1] 0.2064047"
      ]
     },
     "metadata": {},
     "output_type": "display_data"
    }
   ],
   "source": [
    "#Agregamos Y ajustada\n",
    "datos_acres$Acres_ajustado <- beta_0+beta_1*(datos_acres$Cociente)\n",
    "\n",
    "#Calculamos entonces el estimador de varianza\n",
    "sigma_estimador <- sum((datos_acres$Acres-datos_acres$Acres_ajustado)^2)\n",
    "sigma_estimador <- sigma_estimador/(length(datos_acres$Acres)-2)\n",
    "sigma_estimador"
   ]
  },
  {
   "cell_type": "code",
   "execution_count": null,
   "id": "cf28450a",
   "metadata": {},
   "outputs": [],
   "source": []
  },
  {
   "cell_type": "code",
   "execution_count": null,
   "id": "892842a2",
   "metadata": {},
   "outputs": [],
   "source": []
  }
 ],
 "metadata": {
  "kernelspec": {
   "display_name": "R",
   "language": "R",
   "name": "ir"
  },
  "language_info": {
   "codemirror_mode": "r",
   "file_extension": ".r",
   "mimetype": "text/x-r-source",
   "name": "R",
   "pygments_lexer": "r",
   "version": "3.6.1"
  }
 },
 "nbformat": 4,
 "nbformat_minor": 5
}
