{
 "cells": [
  {
   "cell_type": "markdown",
   "id": "6d5b7fee",
   "metadata": {},
   "source": [
    "# Tarea 1"
   ]
  },
  {
   "cell_type": "code",
   "execution_count": 2,
   "id": "d990f303",
   "metadata": {},
   "outputs": [],
   "source": [
    "usePackage <- function(p) \n",
    "{\n",
    "  if (!is.element(p, installed.packages()[,1]))\n",
    "    install.packages(p, repos = \"https://cran.itam.mx/\")\n",
    "  suppressPackageStartupMessages(require(p, character.only = TRUE, quietly  = TRUE))\n",
    "}"
   ]
  },
  {
   "cell_type": "markdown",
   "id": "136fd3e1",
   "metadata": {},
   "source": [
    "# Problema 1"
   ]
  },
  {
   "cell_type": "code",
   "execution_count": 4,
   "id": "c8d915fb",
   "metadata": {},
   "outputs": [],
   "source": [
    "\n",
    "#Funcion amnesia, recibe un vector x numerico\n",
    "#Dos numeros t,s>0\n",
    "#Regresa |P(X>s)-P(X>t+s|X>t)|\n",
    "\n",
    "amnesia <- function(x,t,s){\n",
    "    p_s <- length(x[x>s])/length(x) # P(X>s)\n",
    "    n_s <- length(x[x>t])           # Número de elementos en X tal que X>t\n",
    "    p_ts <- length(x[x>t+s])/n_s    #P(X>t+s|X>t)\n",
    "    return (abs(p_s-p_ts))\n",
    "    \n",
    "}"
   ]
  },
  {
   "cell_type": "code",
   "execution_count": 13,
   "id": "9a759f5a",
   "metadata": {},
   "outputs": [],
   "source": [
    "\n",
    "X <- rexp(100,1)#Muestra aleatoria de 100 observaciones\n",
    "Y <- rexp(1000000,1)#Muestra aleatoria de 1000 observaciones\n",
    "t <- 0.5\n",
    "s <- 2"
   ]
  },
  {
   "cell_type": "code",
   "execution_count": 14,
   "id": "a7ddf8e9",
   "metadata": {},
   "outputs": [
    {
     "data": {
      "text/html": [
       "0.0187301587301587"
      ],
      "text/latex": [
       "0.0187301587301587"
      ],
      "text/markdown": [
       "0.0187301587301587"
      ],
      "text/plain": [
       "[1] 0.01873016"
      ]
     },
     "metadata": {},
     "output_type": "display_data"
    }
   ],
   "source": [
    "#Para una muestra con 100 observaciones\n",
    "amnesia(X,t,s)"
   ]
  },
  {
   "cell_type": "code",
   "execution_count": 15,
   "id": "fc566b1a",
   "metadata": {},
   "outputs": [
    {
     "data": {
      "text/html": [
       "0.000407549753259684"
      ],
      "text/latex": [
       "0.000407549753259684"
      ],
      "text/markdown": [
       "0.000407549753259684"
      ],
      "text/plain": [
       "[1] 0.0004075498"
      ]
     },
     "metadata": {},
     "output_type": "display_data"
    }
   ],
   "source": [
    "#Para una muestra con 1000,000 observaciones\n",
    "amnesia(Y,t,s)"
   ]
  },
  {
   "cell_type": "markdown",
   "id": "eb908f9b",
   "metadata": {},
   "source": [
    "Para ninguna de las dos muestras $\\mathbb{P}(X>t+s|X>t)=\\mathbb{P}(X>s)$.\n",
    "\n",
    "Sin embargo, la muestra con 1000,000 de observaciones tiene un error menor."
   ]
  },
  {
   "cell_type": "markdown",
   "id": "eaade32d",
   "metadata": {},
   "source": [
    "A continuación la solución exacta:\n",
    "$\\mathbb{P}(X>s)= 1-\\mathbb{P}(X\\leq s) = 1-F_{x}(s)$"
   ]
  },
  {
   "cell_type": "code",
   "execution_count": 18,
   "id": "58b1583a",
   "metadata": {},
   "outputs": [
    {
     "data": {
      "text/html": [
       "0.135335283236613"
      ],
      "text/latex": [
       "0.135335283236613"
      ],
      "text/markdown": [
       "0.135335283236613"
      ],
      "text/plain": [
       "[1] 0.1353353"
      ]
     },
     "metadata": {},
     "output_type": "display_data"
    }
   ],
   "source": [
    "#Probabilidad real\n",
    "1-pexp(s,1)"
   ]
  },
  {
   "cell_type": "code",
   "execution_count": 19,
   "id": "dcab8b4b",
   "metadata": {},
   "outputs": [
    {
     "data": {
      "text/html": [
       "0.14"
      ],
      "text/latex": [
       "0.14"
      ],
      "text/markdown": [
       "0.14"
      ],
      "text/plain": [
       "[1] 0.14"
      ]
     },
     "metadata": {},
     "output_type": "display_data"
    }
   ],
   "source": [
    "#Probabilidad dada por la muestra de tamaño 100\n",
    "length(X[X>s])/length(X)"
   ]
  },
  {
   "cell_type": "code",
   "execution_count": 20,
   "id": "f7b389b6",
   "metadata": {},
   "outputs": [
    {
     "data": {
      "text/html": [
       "0.135586"
      ],
      "text/latex": [
       "0.135586"
      ],
      "text/markdown": [
       "0.135586"
      ],
      "text/plain": [
       "[1] 0.135586"
      ]
     },
     "metadata": {},
     "output_type": "display_data"
    }
   ],
   "source": [
    "#Probabilidad dada por la muestra tamaño 1000,000\n",
    "length(Y[Y>s])/length(Y)"
   ]
  },
  {
   "cell_type": "markdown",
   "id": "9f30ba6a",
   "metadata": {},
   "source": [
    "Es mejor la aproximación dada por la muestra de tamaño 1000,000."
   ]
  },
  {
   "cell_type": "markdown",
   "id": "4971620c",
   "metadata": {},
   "source": [
    "# Problema 2 "
   ]
  },
  {
   "cell_type": "code",
   "execution_count": 24,
   "id": "809c1c8a",
   "metadata": {},
   "outputs": [
    {
     "name": "stdout",
     "output_type": "stream",
     "text": [
      "package 'Rlab' successfully unpacked and MD5 sums checked\n",
      "\n",
      "The downloaded binary packages are in\n",
      "\tC:\\Users\\itzam\\AppData\\Local\\Temp\\RtmpmOjMk4\\downloaded_packages\n"
     ]
    }
   ],
   "source": [
    "usePackage('Rlab')"
   ]
  },
  {
   "cell_type": "code",
   "execution_count": 30,
   "id": "ebd60081",
   "metadata": {},
   "outputs": [],
   "source": [
    "#Generamos 500 observaciones bernoulli con p = 1/2\n",
    "#Asociamos un 1 al éximo \"cae sol en el lanzamiento de la moneda\"\n",
    "N <- 500\n",
    "x <- rbern(N, 0.5)\n",
    "#Calculamos ahora la proporcion de soles en cada tiro\n",
    "proporcion_soles <- cumsum(x)/1:N"
   ]
  },
  {
   "cell_type": "code",
   "execution_count": 35,
   "id": "50254c20",
   "metadata": {},
   "outputs": [
    {
     "data": {
      "image/png": "[encoded data removed]",
      "text/plain": [
       "plot without title"
      ]
     },
     "metadata": {},
     "output_type": "display_data"
    }
   ],
   "source": [
    "#Realizamos la gráfica\n",
    "plot(1:N,proporcion_soles,type = 'l',ylim =c(0,1),xlab = 'No. de lanzamientos',\n",
    "     ylab = 'Proporción de Soles/Lanzamientos',col = 'blue')"
   ]
  },
  {
   "cell_type": "code",
   "execution_count": 38,
   "id": "1dc64937",
   "metadata": {},
   "outputs": [
    {
     "data": {
      "image/png": "[encoded data removed]",
      "text/plain": [
       "plot without title"
      ]
     },
     "metadata": {},
     "output_type": "display_data"
    }
   ],
   "source": [
    "#Calculemos ahora la diferencia entre soles y águilas\n",
    "difsoles_aguilas <- 2*cumsum(x)-1:N\n",
    "#Realizamos la gráfica\n",
    "plot(1:N,difsoles_aguilas,type = 'l',xlab = 'No. de lanzamientos',\n",
    "     ylab = 'Diferencia entre soles y águilas',col = 'red')"
   ]
  },
  {
   "cell_type": "code",
   "execution_count": null,
   "id": "c66d509f",
   "metadata": {},
   "outputs": [],
   "source": []
  }
 ],
 "metadata": {
  "kernelspec": {
   "display_name": "R",
   "language": "R",
   "name": "ir"
  },
  "language_info": {
   "codemirror_mode": "r",
   "file_extension": ".r",
   "mimetype": "text/x-r-source",
   "name": "R",
   "pygments_lexer": "r",
   "version": "3.6.1"
  }
 },
 "nbformat": 4,
 "nbformat_minor": 5
}
