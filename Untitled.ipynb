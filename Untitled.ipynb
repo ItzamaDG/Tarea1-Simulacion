{
 "cells": [
  {
   "cell_type": "code",
   "execution_count": 11,
   "id": "33a6a09b",
   "metadata": {},
   "outputs": [],
   "source": [
    "poblacion_isla <- function(P_0,p_b,p_s,q_m){\n",
    "    n<-0\n",
    "    P_ant <- P_0\n",
    "    poblacion <- numeric()\n",
    "    F_actual <- P_0\n",
    "    p_m <- 1 - q_m\n",
    "    \n",
    "    \n",
    "    while(n<=14){\n",
    "        nacimientos <-rbinom(1,F_actual %/% 2, p_b)\n",
    "        nacimientos <- rbinom(1,nacimientos,p_s)\n",
    "        F_siguiente <- rbinom(1,F_actual,q_m)\n",
    "        muertes <- rbinom(1,P_ant-F_actual,p_m)+(F_actual-F_siguiente)\n",
    "        P_sig <- P_ant+nacimientos-muertes\n",
    "        poblacion <- append(poblacion,P_sig)\n",
    "        P_ant <- P_sig\n",
    "        F_actual <- F_siguiente\n",
    "        n<-n+1\n",
    "\n",
    "    }\n",
    "    \n",
    "    return(poblacion)\n",
    "}"
   ]
  },
  {
   "cell_type": "code",
   "execution_count": 24,
   "id": "4519706c",
   "metadata": {},
   "outputs": [
    {
     "data": {
      "text/html": [
       "<style>\n",
       ".list-inline {list-style: none; margin:0; padding: 0}\n",
       ".list-inline>li {display: inline-block}\n",
       ".list-inline>li:not(:last-child)::after {content: \"\\00b7\"; padding: 0 .5ex}\n",
       "</style>\n",
       "<ol class=list-inline><li>8</li><li>8</li><li>11</li><li>14</li><li>16</li><li>18</li><li>19</li><li>19</li><li>21</li><li>22</li><li>22</li><li>21</li><li>22</li><li>22</li><li>21</li></ol>\n"
      ],
      "text/latex": [
       "\\begin{enumerate*}\n",
       "\\item 8\n",
       "\\item 8\n",
       "\\item 11\n",
       "\\item 14\n",
       "\\item 16\n",
       "\\item 18\n",
       "\\item 19\n",
       "\\item 19\n",
       "\\item 21\n",
       "\\item 22\n",
       "\\item 22\n",
       "\\item 21\n",
       "\\item 22\n",
       "\\item 22\n",
       "\\item 21\n",
       "\\end{enumerate*}\n"
      ],
      "text/markdown": [
       "1. 8\n",
       "2. 8\n",
       "3. 11\n",
       "4. 14\n",
       "5. 16\n",
       "6. 18\n",
       "7. 19\n",
       "8. 19\n",
       "9. 21\n",
       "10. 22\n",
       "11. 22\n",
       "12. 21\n",
       "13. 22\n",
       "14. 22\n",
       "15. 21\n",
       "\n",
       "\n"
      ],
      "text/plain": [
       " [1]  8  8 11 14 16 18 19 19 21 22 22 21 22 22 21"
      ]
     },
     "metadata": {},
     "output_type": "display_data"
    }
   ],
   "source": [
    "p"
   ]
  },
  {
   "cell_type": "code",
   "execution_count": null,
   "id": "a4d7d6b4",
   "metadata": {},
   "outputs": [],
   "source": []
  },
  {
   "cell_type": "code",
   "execution_count": null,
   "id": "4b4963ab",
   "metadata": {},
   "outputs": [],
   "source": []
  }
 ],
 "metadata": {
  "kernelspec": {
   "display_name": "R",
   "language": "R",
   "name": "ir"
  },
  "language_info": {
   "codemirror_mode": "r",
   "file_extension": ".r",
   "mimetype": "text/x-r-source",
   "name": "R",
   "pygments_lexer": "r",
   "version": "3.6.1"
  }
 },
 "nbformat": 4,
 "nbformat_minor": 5
}
