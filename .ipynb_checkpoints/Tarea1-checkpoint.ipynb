{
 "cells": [
  {
   "cell_type": "markdown",
   "id": "6d5b7fee",
   "metadata": {},
   "source": [
    "# Tarea 1"
   ]
  },
  {
   "cell_type": "code",
   "execution_count": 20,
   "id": "d990f303",
   "metadata": {},
   "outputs": [],
   "source": [
    "usePackage <- function(p) \n",
    "{\n",
    "  if (!is.element(p, installed.packages()[,1]))\n",
    "    install.packages(p, repos = \"https://cran.itam.mx/\")\n",
    "  suppressPackageStartupMessages(require(p, character.only = TRUE, quietly  = TRUE))\n",
    "}"
   ]
  },
  {
   "cell_type": "markdown",
   "id": "136fd3e1",
   "metadata": {},
   "source": [
    "# Problema 1"
   ]
  },
  {
   "cell_type": "code",
   "execution_count": 21,
   "id": "c8d915fb",
   "metadata": {},
   "outputs": [],
   "source": [
    "\n",
    "#Funcion amnesia, recibe un vector x numerico\n",
    "#Dos numeros t,s>0\n",
    "#Regresa |P(X>s)-P(X>t+s|X>t)|\n",
    "\n",
    "amnesia <- function(x,t,s){\n",
    "    p_s <- length(x[x>s])/length(x) # P(X>s)\n",
    "    n_s <- length(x[x>t])           # Número de elementos en X tal que X>t\n",
    "    p_ts <- length(x[x>t+s])/n_s    #P(X>t+s|X>t)\n",
    "    return (abs(p_s-p_ts))\n",
    "    \n",
    "}"
   ]
  },
  {
   "cell_type": "code",
   "execution_count": 22,
   "id": "9a759f5a",
   "metadata": {},
   "outputs": [],
   "source": [
    "\n",
    "X <- rexp(100,1)#Muestra aleatoria de 100 observaciones\n",
    "Y <- rexp(1000000,1)#Muestra aleatoria de 1000 observaciones\n",
    "t <- 0.5\n",
    "s <- 2"
   ]
  },
  {
   "cell_type": "code",
   "execution_count": 23,
   "id": "a7ddf8e9",
   "metadata": {},
   "outputs": [
    {
     "data": {
      "text/html": [
       "0.0354838709677419"
      ],
      "text/latex": [
       "0.0354838709677419"
      ],
      "text/markdown": [
       "0.0354838709677419"
      ],
      "text/plain": [
       "[1] 0.03548387"
      ]
     },
     "metadata": {},
     "output_type": "display_data"
    }
   ],
   "source": [
    "#Para una muestra con 100 observaciones\n",
    "amnesia(X,t,s)"
   ]
  },
  {
   "cell_type": "code",
   "execution_count": 24,
   "id": "fc566b1a",
   "metadata": {},
   "outputs": [
    {
     "data": {
      "text/html": [
       "0.000448575572137344"
      ],
      "text/latex": [
       "0.000448575572137344"
      ],
      "text/markdown": [
       "0.000448575572137344"
      ],
      "text/plain": [
       "[1] 0.0004485756"
      ]
     },
     "metadata": {},
     "output_type": "display_data"
    }
   ],
   "source": [
    "#Para una muestra con 1000,000 observaciones\n",
    "amnesia(Y,t,s)"
   ]
  },
  {
   "cell_type": "markdown",
   "id": "eb908f9b",
   "metadata": {},
   "source": [
    "Para ninguna de las dos muestras $\\mathbb{P}(X>t+s|X>t)=\\mathbb{P}(X>s)$.\n",
    "\n",
    "Sin embargo, la muestra con 1000,000 de observaciones tiene un error menor."
   ]
  },
  {
   "cell_type": "markdown",
   "id": "eaade32d",
   "metadata": {},
   "source": [
    "A continuación la solución exacta:\n",
    "$\\mathbb{P}(X>s)= 1-\\mathbb{P}(X\\leq s) = 1-F_{x}(s)$"
   ]
  },
  {
   "cell_type": "code",
   "execution_count": 25,
   "id": "58b1583a",
   "metadata": {},
   "outputs": [
    {
     "data": {
      "text/html": [
       "0.135335283236613"
      ],
      "text/latex": [
       "0.135335283236613"
      ],
      "text/markdown": [
       "0.135335283236613"
      ],
      "text/plain": [
       "[1] 0.1353353"
      ]
     },
     "metadata": {},
     "output_type": "display_data"
    }
   ],
   "source": [
    "#Probabilidad real\n",
    "1-pexp(s,1)"
   ]
  },
  {
   "cell_type": "code",
   "execution_count": 26,
   "id": "dcab8b4b",
   "metadata": {},
   "outputs": [
    {
     "data": {
      "text/html": [
       "0.1"
      ],
      "text/latex": [
       "0.1"
      ],
      "text/markdown": [
       "0.1"
      ],
      "text/plain": [
       "[1] 0.1"
      ]
     },
     "metadata": {},
     "output_type": "display_data"
    }
   ],
   "source": [
    "#Probabilidad dada por la muestra de tamaño 100\n",
    "length(X[X>s])/length(X)"
   ]
  },
  {
   "cell_type": "code",
   "execution_count": 27,
   "id": "f7b389b6",
   "metadata": {},
   "outputs": [
    {
     "data": {
      "text/html": [
       "0.135776"
      ],
      "text/latex": [
       "0.135776"
      ],
      "text/markdown": [
       "0.135776"
      ],
      "text/plain": [
       "[1] 0.135776"
      ]
     },
     "metadata": {},
     "output_type": "display_data"
    }
   ],
   "source": [
    "#Probabilidad dada por la muestra tamaño 1000,000\n",
    "length(Y[Y>s])/length(Y)"
   ]
  },
  {
   "cell_type": "markdown",
   "id": "9f30ba6a",
   "metadata": {},
   "source": [
    "Es mejor la aproximación dada por la muestra de tamaño 1000,000."
   ]
  },
  {
   "cell_type": "markdown",
   "id": "4971620c",
   "metadata": {},
   "source": [
    "# Problema 2 "
   ]
  },
  {
   "cell_type": "code",
   "execution_count": 28,
   "id": "809c1c8a",
   "metadata": {},
   "outputs": [],
   "source": [
    "usePackage('Rlab')"
   ]
  },
  {
   "cell_type": "code",
   "execution_count": 29,
   "id": "ebd60081",
   "metadata": {},
   "outputs": [],
   "source": [
    "#Generamos 500 observaciones bernoulli con p = 1/2\n",
    "#Asociamos un 1 al éximo \"cae sol en el lanzamiento de la moneda\"\n",
    "N <- 500\n",
    "x <- rbern(N, 0.5)\n",
    "#Calculamos ahora la proporcion de soles en cada tiro\n",
    "proporcion_soles <- cumsum(x)/1:N"
   ]
  },
  {
   "cell_type": "code",
   "execution_count": 41,
   "id": "50254c20",
   "metadata": {},
   "outputs": [
    {
     "data": {
      "image/png": "[encoded data removed]",
      "text/plain": [
       "plot without title"
      ]
     },
     "metadata": {},
     "output_type": "display_data"
    }
   ],
   "source": [
    "#Realizamos la gráfica\n",
    "plot(1:N,proporcion_soles,type = 'l',ylim =c(0,1),xlab = 'No. de lanzamientos',\n",
    "     ylab = 'Proporción de Soles/Lanzamientos',col = 'blue')\n",
    "abline(h=0.5)"
   ]
  },
  {
   "cell_type": "code",
   "execution_count": 42,
   "id": "1dc64937",
   "metadata": {},
   "outputs": [
    {
     "data": {
      "image/png": "[encoded data removed]",
      "text/plain": [
       "plot without title"
      ]
     },
     "metadata": {},
     "output_type": "display_data"
    }
   ],
   "source": [
    "#Calculemos ahora la diferencia entre soles y águilas\n",
    "difsoles_aguilas <- 2*cumsum(x)-1:N\n",
    "#Realizamos la gráfica\n",
    "plot(1:N,difsoles_aguilas,type = 'l',xlab = 'No. de lanzamientos',\n",
    "     ylab = 'Diferencia entre soles y águilas',col = 'red')\n",
    "\n"
   ]
  },
  {
   "cell_type": "markdown",
   "id": "6e670eb5",
   "metadata": {},
   "source": []
  },
  {
   "cell_type": "markdown",
   "id": "dc7797e9",
   "metadata": {},
   "source": [
    "La tendencia general parece poder ser descrita por una linea recta, es decir, que si $Y=\\#Soles-\\#Águilas$, entonces ocurre que\n",
    "$\\frac{\\Delta Y}{\\Delta n}$ y entonces $\\frac{\\Delta \\#Soles}{\\Delta n}$ y $\\frac{\\Delta \\#Águilas}{\\Delta n}$ difieren por una constante"
   ]
  },
  {
   "cell_type": "markdown",
   "id": "9ddb8394",
   "metadata": {},
   "source": [
    "# Problema 3"
   ]
  },
  {
   "cell_type": "markdown",
   "id": "a79c66a1",
   "metadata": {},
   "source": [
    "Una canoa que contiene tres mujeres y tres hombres llega a una isla deshabitada.\n",
    "Discutan la información que requieren para modelar la sociedad de estos individuos\n",
    "y cómo el tamaño de la población crece con el tiempo. Por ejemplo, pueden hacer\n",
    "supuestos como los siguientes y hacer modificaciones para ver cómo cambiarían\n",
    "las proyecciones que hagan:\n",
    "\n",
    "Todas las personas son adultos (digamos 20 años todos). La edad de las mujeres es importante para el tema de capacidad reproductiva.\n",
    "\n",
    "Las parejas se determinan al inicio y no hay cambios de pareja a lo largo del\n",
    "tiempo\n",
    "\n",
    "Cada pareja puede tener una bebé al año con probabilidad p, y éste sobrevive\n",
    "con probabilidad w.\n"
   ]
  },
  {
   "cell_type": "markdown",
   "id": "587f9e54",
   "metadata": {},
   "source": [
    "Podemos hacer los siguientes supuestos:\n",
    "\n",
    "- Todas las personas se encuentran en edad reproductiva\n",
    "- Que una pareja tenga un hijo o no es independiente del resto de las parejas\n",
    "\n",
    "Sea $X$ la cantidad de hijos que las tres parejas pueden tener, entonces $X$ se distribuye $Bin(3,\\frac{1}{2})$"
   ]
  },
  {
   "cell_type": "markdown",
   "id": "b6ac5772",
   "metadata": {},
   "source": [
    "# Prboblema 6"
   ]
  },
  {
   "cell_type": "markdown",
   "id": "7a5648f0",
   "metadata": {},
   "source": [
    "Función para obtener $Z_n$ a partir de $Z_{n-1}$ en el método del cuadrado medio de John von Neumann"
   ]
  },
  {
   "cell_type": "code",
   "execution_count": 14,
   "id": "886c506b",
   "metadata": {},
   "outputs": [],
   "source": [
    "\n",
    "\n",
    "Z_n <- function(Z_0){\n",
    "    x <- Z_0^2\n",
    "    x <- as.character(x)\n",
    "    x <- as.numeric(unlist(strsplit(x, \"\")))\n",
    "    if(length(x)==4){\n",
    "        #4321\n",
    "        Z_n <- x[2]*10+x[3] #32\n",
    "    }else{\n",
    "        \n",
    "        if(length(x)==3){\n",
    "            #0-321\n",
    "            Z_n <- x[1]*10+x[2]#32\n",
    "        }else{\n",
    "            if(length(x)==2){\n",
    "                #00-21\n",
    "                Z_n <- x[1]#02\n",
    "            }else{\n",
    "                #000-1\n",
    "                Z_n<-0\n",
    "            }\n",
    "        }\n",
    "    }\n",
    "    return(Z_n)\n",
    "    \n",
    "\n",
    "\n",
    "}"
   ]
  },
  {
   "cell_type": "code",
   "execution_count": 16,
   "id": "4e4af6df",
   "metadata": {},
   "outputs": [
    {
     "data": {
      "text/html": [
       "8"
      ],
      "text/latex": [
       "8"
      ],
      "text/markdown": [
       "8"
      ],
      "text/plain": [
       "[1] 8"
      ]
     },
     "metadata": {},
     "output_type": "display_data"
    }
   ],
   "source": []
  },
  {
   "cell_type": "code",
   "execution_count": null,
   "id": "11cbad2f",
   "metadata": {},
   "outputs": [],
   "source": []
  }
 ],
 "metadata": {
  "kernelspec": {
   "display_name": "R",
   "language": "R",
   "name": "ir"
  },
  "language_info": {
   "codemirror_mode": "r",
   "file_extension": ".r",
   "mimetype": "text/x-r-source",
   "name": "R",
   "pygments_lexer": "r",
   "version": "3.6.1"
  }
 },
 "nbformat": 4,
 "nbformat_minor": 5
}
