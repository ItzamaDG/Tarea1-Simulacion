{
 "cells": [
  {
   "cell_type": "code",
   "execution_count": 20,
   "id": "90a3d524",
   "metadata": {},
   "outputs": [
    {
     "data": {
      "text/html": [
       "0"
      ],
      "text/latex": [
       "0"
      ],
      "text/markdown": [
       "0"
      ],
      "text/plain": [
       "[1] 0"
      ]
     },
     "metadata": {},
     "output_type": "display_data"
    }
   ],
   "source": []
  },
  {
   "cell_type": "code",
   "execution_count": 22,
   "id": "520d50b7",
   "metadata": {},
   "outputs": [
    {
     "data": {
      "text/html": [
       "3"
      ],
      "text/latex": [
       "3"
      ],
      "text/markdown": [
       "3"
      ],
      "text/plain": [
       "[1] 3"
      ]
     },
     "metadata": {},
     "output_type": "display_data"
    }
   ],
   "source": []
  },
  {
   "cell_type": "code",
   "execution_count": 38,
   "id": "0101684a",
   "metadata": {},
   "outputs": [],
   "source": [
    "#Simulación de población en una isla\n",
    "poblacion_isla <- function(P0,pb,ps,pm,pr){\n",
    "    n <- 0\n",
    "    P_ant <- P0\n",
    "    \n",
    "    poblacion <- numeric()\n",
    "    nacimientos <- numeric () #Me refiero a los que no murieron ese año\n",
    " \n",
    "    \n",
    "    P_sig <- 0\n",
    "    \n",
    "    \n",
    "    while(n<120){\n",
    "        Fn <- 0\n",
    "        if(n<=14 ){\n",
    "            \n",
    "            Fn <- P0\n",
    "            SBn <- rbinom(1,Fn %/% 2,pb)\n",
    "            SBn <- rbinom(1,SBn,ps)\n",
    "            \n",
    "            \n",
    "            P_sig <- P_ant +SBn\n",
    "            poblacion <- append(poblacion,P_sig)\n",
    "            nacimientos<-append(nacimientos,SBn)\n",
    "            P_ant <- P_sig\n",
    "            #Al final de n = 0 tenemos p1\n",
    "            #Al final de n = 14 tenemos p1,p2,...p15\n",
    "            \n",
    "        }\n",
    "        else{\n",
    "            if(n==15){\n",
    "                #En el año 0 hubo nacimientos[1]\n",
    "                #Tienen probabilidad pr de llegar a la edad reproductiva\n",
    "                Fn <- rbinom(1,nacimientos[1],pr)\n",
    "                SBn <- rbinom(1,Fn %/% 2, pb)\n",
    "                SBn <- rbinom(1,SBn,ps)\n",
    "                Dn <- rbinom(1,poblacion[n],pm)\n",
    "                \n",
    "                P_sig <- P_ant + SBn - Dn\n",
    "                poblacion <- append(poblacion,P_sig)\n",
    "                nacimientos<-append(nacimientos,SBn)\n",
    "                P_ant <- P_sig\n",
    "                \n",
    "            }else{\n",
    "                if(n<=34){\n",
    "                    Fn<-rbinom(1,Fn,1-pm)+rbinom(1,nacimientos[n-14],pr)\n",
    "                    SBn <- rbinom(1,Fn %/% 2, pb)\n",
    "                    SBn <- rbinom(1,SBn,ps)\n",
    "                    Dn <- rbinom(1,poblacion[n],pm)\n",
    "                    \n",
    "                    P_sig <- P_ant + SBn - Dn\n",
    "                    poblacion <- append(poblacion,P_sig)\n",
    "                    nacimientos<-append(nacimientos,SBn)\n",
    "                    P_ant <- P_sig\n",
    "                    \n",
    "                }\n",
    "                else{\n",
    "                    \n",
    "                    Fn<-rbinom(1,Fn,1-pm)+rbinom(1,nacimientos[n-14],pr)-rbinom(1,nacimientos[n-34],pr*(1-pm)^20)\n",
    "                    SBn <- rbinom(1,Fn %/% 2, pb)\n",
    "                    SBn <- rbinom(1,SBn,ps)\n",
    "                    Dn <- rbinom(1,poblacion[n],pm)\n",
    "                    \n",
    "                    P_sig <- P_ant + SBn - Dn\n",
    "                    poblacion <- append(poblacion,P_sig)\n",
    "                    nacimientos<-append(nacimientos,SBn)\n",
    "                    P_ant <- P_sig\n",
    "                }\n",
    "            }\n",
    "        }\n",
    "        n<-n+1\n",
    "    }\n",
    "    \n",
    "    return(poblacion)\n",
    "    \n",
    "    \n",
    "}\n",
    "    "
   ]
  },
  {
   "cell_type": "code",
   "execution_count": 42,
   "id": "e22da764",
   "metadata": {
    "scrolled": false
   },
   "outputs": [
    {
     "data": {
      "text/html": [
       "<style>\n",
       ".list-inline {list-style: none; margin:0; padding: 0}\n",
       ".list-inline>li {display: inline-block}\n",
       ".list-inline>li:not(:last-child)::after {content: \"\\00b7\"; padding: 0 .5ex}\n",
       "</style>\n",
       "<ol class=list-inline><li>1292</li><li>1589</li><li>1884</li><li>2166</li><li>2459</li><li>2757</li><li>3061</li><li>3341</li><li>3640</li><li>3946</li><li>4254</li><li>4553</li><li>4847</li><li>5150</li><li>5439</li><li>3833</li><li>2718</li><li>1940</li><li>1432</li><li>1062</li><li>787</li><li>631</li><li>521</li><li>442</li><li>368</li><li>347</li><li>319</li><li>299</li><li>284</li><li>267</li><li>187</li><li>138</li><li>112</li><li>92</li><li>90</li><li>72</li><li>65</li><li>65</li><li>70</li><li>73</li><li>67</li><li>66</li><li>63</li><li>56</li><li>50</li><li>37</li><li>31</li><li>28</li><li>27</li><li>20</li><li>19</li><li>19</li><li>13</li><li>13</li><li>12</li><li>12</li><li>12</li><li>15</li><li>12</li><li>12</li><li>10</li><li>9</li><li>6</li><li>6</li><li>5</li><li>4</li><li>6</li><li>6</li><li>5</li><li>3</li><li>3</li><li>4</li><li>3</li><li>2</li><li>3</li><li>1</li><li>0</li><li>0</li><li>0</li><li>0</li><li>0</li><li>0</li><li>0</li><li>0</li><li>0</li><li>0</li><li>0</li><li>1</li><li>1</li><li>1</li><li>0</li><li>0</li><li>0</li><li>0</li><li>0</li><li>0</li><li>0</li><li>0</li><li>0</li><li>0</li><li>0</li><li>0</li><li>0</li><li>0</li><li>0</li><li>0</li><li>0</li><li>0</li><li>0</li><li>0</li><li>0</li><li>0</li><li>0</li><li>0</li><li>0</li><li>0</li><li>0</li><li>0</li><li>0</li><li>0</li></ol>\n"
      ],
      "text/latex": [
       "\\begin{enumerate*}\n",
       "\\item 1292\n",
       "\\item 1589\n",
       "\\item 1884\n",
       "\\item 2166\n",
       "\\item 2459\n",
       "\\item 2757\n",
       "\\item 3061\n",
       "\\item 3341\n",
       "\\item 3640\n",
       "\\item 3946\n",
       "\\item 4254\n",
       "\\item 4553\n",
       "\\item 4847\n",
       "\\item 5150\n",
       "\\item 5439\n",
       "\\item 3833\n",
       "\\item 2718\n",
       "\\item 1940\n",
       "\\item 1432\n",
       "\\item 1062\n",
       "\\item 787\n",
       "\\item 631\n",
       "\\item 521\n",
       "\\item 442\n",
       "\\item 368\n",
       "\\item 347\n",
       "\\item 319\n",
       "\\item 299\n",
       "\\item 284\n",
       "\\item 267\n",
       "\\item 187\n",
       "\\item 138\n",
       "\\item 112\n",
       "\\item 92\n",
       "\\item 90\n",
       "\\item 72\n",
       "\\item 65\n",
       "\\item 65\n",
       "\\item 70\n",
       "\\item 73\n",
       "\\item 67\n",
       "\\item 66\n",
       "\\item 63\n",
       "\\item 56\n",
       "\\item 50\n",
       "\\item 37\n",
       "\\item 31\n",
       "\\item 28\n",
       "\\item 27\n",
       "\\item 20\n",
       "\\item 19\n",
       "\\item 19\n",
       "\\item 13\n",
       "\\item 13\n",
       "\\item 12\n",
       "\\item 12\n",
       "\\item 12\n",
       "\\item 15\n",
       "\\item 12\n",
       "\\item 12\n",
       "\\item 10\n",
       "\\item 9\n",
       "\\item 6\n",
       "\\item 6\n",
       "\\item 5\n",
       "\\item 4\n",
       "\\item 6\n",
       "\\item 6\n",
       "\\item 5\n",
       "\\item 3\n",
       "\\item 3\n",
       "\\item 4\n",
       "\\item 3\n",
       "\\item 2\n",
       "\\item 3\n",
       "\\item 1\n",
       "\\item 0\n",
       "\\item 0\n",
       "\\item 0\n",
       "\\item 0\n",
       "\\item 0\n",
       "\\item 0\n",
       "\\item 0\n",
       "\\item 0\n",
       "\\item 0\n",
       "\\item 0\n",
       "\\item 0\n",
       "\\item 1\n",
       "\\item 1\n",
       "\\item 1\n",
       "\\item 0\n",
       "\\item 0\n",
       "\\item 0\n",
       "\\item 0\n",
       "\\item 0\n",
       "\\item 0\n",
       "\\item 0\n",
       "\\item 0\n",
       "\\item 0\n",
       "\\item 0\n",
       "\\item 0\n",
       "\\item 0\n",
       "\\item 0\n",
       "\\item 0\n",
       "\\item 0\n",
       "\\item 0\n",
       "\\item 0\n",
       "\\item 0\n",
       "\\item 0\n",
       "\\item 0\n",
       "\\item 0\n",
       "\\item 0\n",
       "\\item 0\n",
       "\\item 0\n",
       "\\item 0\n",
       "\\item 0\n",
       "\\item 0\n",
       "\\item 0\n",
       "\\item 0\n",
       "\\item 0\n",
       "\\end{enumerate*}\n"
      ],
      "text/markdown": [
       "1. 1292\n",
       "2. 1589\n",
       "3. 1884\n",
       "4. 2166\n",
       "5. 2459\n",
       "6. 2757\n",
       "7. 3061\n",
       "8. 3341\n",
       "9. 3640\n",
       "10. 3946\n",
       "11. 4254\n",
       "12. 4553\n",
       "13. 4847\n",
       "14. 5150\n",
       "15. 5439\n",
       "16. 3833\n",
       "17. 2718\n",
       "18. 1940\n",
       "19. 1432\n",
       "20. 1062\n",
       "21. 787\n",
       "22. 631\n",
       "23. 521\n",
       "24. 442\n",
       "25. 368\n",
       "26. 347\n",
       "27. 319\n",
       "28. 299\n",
       "29. 284\n",
       "30. 267\n",
       "31. 187\n",
       "32. 138\n",
       "33. 112\n",
       "34. 92\n",
       "35. 90\n",
       "36. 72\n",
       "37. 65\n",
       "38. 65\n",
       "39. 70\n",
       "40. 73\n",
       "41. 67\n",
       "42. 66\n",
       "43. 63\n",
       "44. 56\n",
       "45. 50\n",
       "46. 37\n",
       "47. 31\n",
       "48. 28\n",
       "49. 27\n",
       "50. 20\n",
       "51. 19\n",
       "52. 19\n",
       "53. 13\n",
       "54. 13\n",
       "55. 12\n",
       "56. 12\n",
       "57. 12\n",
       "58. 15\n",
       "59. 12\n",
       "60. 12\n",
       "61. 10\n",
       "62. 9\n",
       "63. 6\n",
       "64. 6\n",
       "65. 5\n",
       "66. 4\n",
       "67. 6\n",
       "68. 6\n",
       "69. 5\n",
       "70. 3\n",
       "71. 3\n",
       "72. 4\n",
       "73. 3\n",
       "74. 2\n",
       "75. 3\n",
       "76. 1\n",
       "77. 0\n",
       "78. 0\n",
       "79. 0\n",
       "80. 0\n",
       "81. 0\n",
       "82. 0\n",
       "83. 0\n",
       "84. 0\n",
       "85. 0\n",
       "86. 0\n",
       "87. 0\n",
       "88. 1\n",
       "89. 1\n",
       "90. 1\n",
       "91. 0\n",
       "92. 0\n",
       "93. 0\n",
       "94. 0\n",
       "95. 0\n",
       "96. 0\n",
       "97. 0\n",
       "98. 0\n",
       "99. 0\n",
       "100. 0\n",
       "101. 0\n",
       "102. 0\n",
       "103. 0\n",
       "104. 0\n",
       "105. 0\n",
       "106. 0\n",
       "107. 0\n",
       "108. 0\n",
       "109. 0\n",
       "110. 0\n",
       "111. 0\n",
       "112. 0\n",
       "113. 0\n",
       "114. 0\n",
       "115. 0\n",
       "116. 0\n",
       "117. 0\n",
       "118. 0\n",
       "119. 0\n",
       "120. 0\n",
       "\n",
       "\n"
      ],
      "text/plain": [
       "  [1] 1292 1589 1884 2166 2459 2757 3061 3341 3640 3946 4254 4553 4847 5150 5439\n",
       " [16] 3833 2718 1940 1432 1062  787  631  521  442  368  347  319  299  284  267\n",
       " [31]  187  138  112   92   90   72   65   65   70   73   67   66   63   56   50\n",
       " [46]   37   31   28   27   20   19   19   13   13   12   12   12   15   12   12\n",
       " [61]   10    9    6    6    5    4    6    6    5    3    3    4    3    2    3\n",
       " [76]    1    0    0    0    0    0    0    0    0    0    0    0    1    1    1\n",
       " [91]    0    0    0    0    0    0    0    0    0    0    0    0    0    0    0\n",
       "[106]    0    0    0    0    0    0    0    0    0    0    0    0    0    0    0"
      ]
     },
     "metadata": {},
     "output_type": "display_data"
    }
   ],
   "source": [
    "x<-poblacion_isla(1000,0.85,0.7,0.3,0.8)\n",
    "x"
   ]
  },
  {
   "cell_type": "code",
   "execution_count": 33,
   "id": "08e40ac4",
   "metadata": {},
   "outputs": [
    {
     "data": {
      "text/html": [
       "<style>\n",
       ".list-inline {list-style: none; margin:0; padding: 0}\n",
       ".list-inline>li {display: inline-block}\n",
       ".list-inline>li:not(:last-child)::after {content: \"\\00b7\"; padding: 0 .5ex}\n",
       "</style>\n",
       "<ol class=list-inline><li>56</li><li>56</li><li>66</li><li>61</li><li>63</li><li>52</li><li>53</li><li>56</li></ol>\n"
      ],
      "text/latex": [
       "\\begin{enumerate*}\n",
       "\\item 56\n",
       "\\item 56\n",
       "\\item 66\n",
       "\\item 61\n",
       "\\item 63\n",
       "\\item 52\n",
       "\\item 53\n",
       "\\item 56\n",
       "\\end{enumerate*}\n"
      ],
      "text/markdown": [
       "1. 56\n",
       "2. 56\n",
       "3. 66\n",
       "4. 61\n",
       "5. 63\n",
       "6. 52\n",
       "7. 53\n",
       "8. 56\n",
       "\n",
       "\n"
      ],
      "text/plain": [
       "[1] 56 56 66 61 63 52 53 56"
      ]
     },
     "metadata": {},
     "output_type": "display_data"
    }
   ],
   "source": [
    "rbinom(8,150,.4)"
   ]
  },
  {
   "cell_type": "code",
   "execution_count": 7,
   "id": "52c1f147",
   "metadata": {},
   "outputs": [
    {
     "name": "stdout",
     "output_type": "stream",
     "text": [
      "[1] 0\n",
      "[1] 1\n",
      "[1] 2\n",
      "[1] 3\n",
      "[1] 4\n",
      "[1] 5\n"
     ]
    }
   ],
   "source": [
    "poblacion_isla(3,0,0,0,0)"
   ]
  },
  {
   "cell_type": "code",
   "execution_count": 15,
   "id": "31fdfaac",
   "metadata": {},
   "outputs": [
    {
     "data": {
      "text/html": [
       "<style>\n",
       ".list-inline {list-style: none; margin:0; padding: 0}\n",
       ".list-inline>li {display: inline-block}\n",
       ".list-inline>li:not(:last-child)::after {content: \"\\00b7\"; padding: 0 .5ex}\n",
       "</style>\n",
       "<ol class=list-inline><li>1</li><li>2</li><li>3</li><li>4</li><li>5</li><li>10</li></ol>\n"
      ],
      "text/latex": [
       "\\begin{enumerate*}\n",
       "\\item 1\n",
       "\\item 2\n",
       "\\item 3\n",
       "\\item 4\n",
       "\\item 5\n",
       "\\item 10\n",
       "\\end{enumerate*}\n"
      ],
      "text/markdown": [
       "1. 1\n",
       "2. 2\n",
       "3. 3\n",
       "4. 4\n",
       "5. 5\n",
       "6. 10\n",
       "\n",
       "\n"
      ],
      "text/plain": [
       "[1]  1  2  3  4  5 10"
      ]
     },
     "metadata": {},
     "output_type": "display_data"
    },
    {
     "data": {
      "text/html": [
       "FALSE"
      ],
      "text/latex": [
       "FALSE"
      ],
      "text/markdown": [
       "FALSE"
      ],
      "text/plain": [
       "[1] FALSE"
      ]
     },
     "metadata": {},
     "output_type": "display_data"
    }
   ],
   "source": [
    "\n",
    "x <- rep(1:5)\n",
    "  \n",
    "# Using rep() method\n",
    "x<- append(x, 10)\n",
    "x\n",
    "4<2 && 4>3"
   ]
  },
  {
   "cell_type": "code",
   "execution_count": 18,
   "id": "8516d634",
   "metadata": {},
   "outputs": [
    {
     "data": {
      "text/html": [
       "12"
      ],
      "text/latex": [
       "12"
      ],
      "text/markdown": [
       "12"
      ],
      "text/plain": [
       "[1] 12"
      ]
     },
     "metadata": {},
     "output_type": "display_data"
    }
   ],
   "source": [
    "tail(x,1)+2"
   ]
  },
  {
   "cell_type": "code",
   "execution_count": 8,
   "id": "92ff44a9",
   "metadata": {},
   "outputs": [
    {
     "data": {
      "text/html": [
       "0"
      ],
      "text/latex": [
       "0"
      ],
      "text/markdown": [
       "0"
      ],
      "text/plain": [
       "[1] 0"
      ]
     },
     "metadata": {},
     "output_type": "display_data"
    }
   ],
   "source": [
    "p<-numeric(1)\n",
    "p[1]<-0\n",
    "p"
   ]
  },
  {
   "cell_type": "code",
   "execution_count": 12,
   "id": "903a1cb3",
   "metadata": {},
   "outputs": [],
   "source": [
    "x<-numeric()"
   ]
  },
  {
   "cell_type": "code",
   "execution_count": 14,
   "id": "7ee3f814",
   "metadata": {},
   "outputs": [
    {
     "data": {
      "text/html": [
       "10"
      ],
      "text/latex": [
       "10"
      ],
      "text/markdown": [
       "10"
      ],
      "text/plain": [
       "[1] 10"
      ]
     },
     "metadata": {},
     "output_type": "display_data"
    }
   ],
   "source": [
    "x<-append(x,10)\n",
    "x"
   ]
  },
  {
   "cell_type": "code",
   "execution_count": null,
   "id": "46092cb3",
   "metadata": {},
   "outputs": [],
   "source": []
  }
 ],
 "metadata": {
  "kernelspec": {
   "display_name": "R",
   "language": "R",
   "name": "ir"
  },
  "language_info": {
   "codemirror_mode": "r",
   "file_extension": ".r",
   "mimetype": "text/x-r-source",
   "name": "R",
   "pygments_lexer": "r",
   "version": "3.6.1"
  }
 },
 "nbformat": 4,
 "nbformat_minor": 5
}
