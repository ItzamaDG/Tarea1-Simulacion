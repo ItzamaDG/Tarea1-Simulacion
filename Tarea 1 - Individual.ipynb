{
 "cells": [
  {
   "cell_type": "markdown",
   "id": "668ae497",
   "metadata": {},
   "source": [
    "Problema:\n",
    "\n",
    "Si se lanzan tres dados, ¿qué suma es más probable, un 9 o un 10?\n",
    "Este problema se puede resolver fácilmente de manera analítica, pero aquí lo que quiero es que\n",
    "lo simulen."
   ]
  },
  {
   "cell_type": "code",
   "execution_count": 1,
   "id": "0bfca695",
   "metadata": {},
   "outputs": [],
   "source": [
    "set.seed(2)"
   ]
  },
  {
   "cell_type": "code",
   "execution_count": 2,
   "id": "34cb9cef",
   "metadata": {},
   "outputs": [],
   "source": [
    "#Está función nos permite generar una muestra tamaño\n",
    "#n con distribución uniforme discreta con valores {m,m+1,...,M}\n",
    "discrete_uniform<-function(n,m,M){\n",
    "    return (ceiling(runif(n, min=m-1, max=M)))\n",
    "}\n",
    "\n"
   ]
  },
  {
   "cell_type": "code",
   "execution_count": 3,
   "id": "5450f8eb",
   "metadata": {},
   "outputs": [],
   "source": [
    "#Generamos n lanzamientos de 3 dados justos\n",
    "n = 5000\n",
    "#Lanzamos los tres dados n veces\n",
    "dado_1 <- discrete_uniform(n,1,6)\n",
    "dado_2 <- discrete_uniform(n,1,6)\n",
    "dado_3 <- discrete_uniform(n,1,6)\n",
    "\n",
    "#Calculamos la suma de los dados para cada lanzamiento\n",
    "suma_dados <- dado_1+dado_2+dado_3\n",
    "suma_nueve <-ifelse(suma_dados==9,1,0)\n",
    "suma_diez <- ifelse(suma_dados==10,1,0)\n",
    "\n",
    "#En cada instante i en 1,2,...,n sumamos el numero de veces donde la suma fue nueve\n",
    "#hasta ese instante i y lo dividimos sobre i, el numero de intentos\n",
    "proba_nueve <- cumsum(suma_nueve)/1:n\n",
    "proba_diez<-cumsum(suma_diez)/1:n\n",
    "\n",
    "\n"
   ]
  },
  {
   "cell_type": "code",
   "execution_count": 4,
   "id": "76d67efa",
   "metadata": {},
   "outputs": [
    {
     "data": {
      "image/png": "[encoded data removed]",
      "text/plain": [
       "Plot with title \"Distribución caras de un dado\""
      ]
     },
     "metadata": {},
     "output_type": "display_data"
    }
   ],
   "source": [
    "#Vemos que la generación parece razonable\n",
    "hist(dado_1, main = \"Distribución caras de un dado\", \n",
    "     xlab = \"Cara\", ylab = \"Frecuencia\",\n",
    "     col = \"purple\")"
   ]
  },
  {
   "cell_type": "code",
   "execution_count": 5,
   "id": "930441d0",
   "metadata": {},
   "outputs": [
    {
     "data": {
      "image/png": "[encoded data removed]",
      "text/plain": [
       "Plot with title \"Suma de tres dados\""
      ]
     },
     "metadata": {},
     "output_type": "display_data"
    }
   ],
   "source": [
    "plot(1:n,proba_nueve,type = 'l',col='red', ylim=c(0,0.4),\n",
    "    main = \"Suma de tres dados\",\n",
    "     xlab = 'Número de lanzamientos',\n",
    "     ylab = 'Probabilidad')\n",
    "lines(1:n,proba_diez,col='green')\n",
    "legend(\"topleft\",\n",
    "c(\"Suma nueve\",\"Suma diez\"),\n",
    "fill=c(\"red\",\"green\")\n",
    ")"
   ]
  },
  {
   "cell_type": "code",
   "execution_count": 6,
   "id": "70379005",
   "metadata": {},
   "outputs": [
    {
     "data": {
      "text/html": [
       "<style>\n",
       ".list-inline {list-style: none; margin:0; padding: 0}\n",
       ".list-inline>li {display: inline-block}\n",
       ".list-inline>li:not(:last-child)::after {content: \"\\00b7\"; padding: 0 .5ex}\n",
       "</style>\n",
       "<ol class=list-inline><li>0.12032032032032</li><li>0.120296236989592</li><li>0.120272163297979</li><li>0.120248099239696</li><li>0.120224044808962</li><li>0.1202</li></ol>\n"
      ],
      "text/latex": [
       "\\begin{enumerate*}\n",
       "\\item 0.12032032032032\n",
       "\\item 0.120296236989592\n",
       "\\item 0.120272163297979\n",
       "\\item 0.120248099239696\n",
       "\\item 0.120224044808962\n",
       "\\item 0.1202\n",
       "\\end{enumerate*}\n"
      ],
      "text/markdown": [
       "1. 0.12032032032032\n",
       "2. 0.120296236989592\n",
       "3. 0.120272163297979\n",
       "4. 0.120248099239696\n",
       "5. 0.120224044808962\n",
       "6. 0.1202\n",
       "\n",
       "\n"
      ],
      "text/plain": [
       "[1] 0.1203203 0.1202962 0.1202722 0.1202481 0.1202240 0.1202000"
      ]
     },
     "metadata": {},
     "output_type": "display_data"
    }
   ],
   "source": [
    "tail(proba_diez)"
   ]
  },
  {
   "cell_type": "code",
   "execution_count": 7,
   "id": "e5564bab",
   "metadata": {},
   "outputs": [
    {
     "data": {
      "text/html": [
       "<style>\n",
       ".list-inline {list-style: none; margin:0; padding: 0}\n",
       ".list-inline>li {display: inline-block}\n",
       ".list-inline>li:not(:last-child)::after {content: \"\\00b7\"; padding: 0 .5ex}\n",
       "</style>\n",
       "<ol class=list-inline><li>0.112112112112112</li><li>0.11208967173739</li><li>0.112067240344207</li><li>0.112044817927171</li><li>0.112022404480896</li><li>0.112</li></ol>\n"
      ],
      "text/latex": [
       "\\begin{enumerate*}\n",
       "\\item 0.112112112112112\n",
       "\\item 0.11208967173739\n",
       "\\item 0.112067240344207\n",
       "\\item 0.112044817927171\n",
       "\\item 0.112022404480896\n",
       "\\item 0.112\n",
       "\\end{enumerate*}\n"
      ],
      "text/markdown": [
       "1. 0.112112112112112\n",
       "2. 0.11208967173739\n",
       "3. 0.112067240344207\n",
       "4. 0.112044817927171\n",
       "5. 0.112022404480896\n",
       "6. 0.112\n",
       "\n",
       "\n"
      ],
      "text/plain": [
       "[1] 0.1121121 0.1120897 0.1120672 0.1120448 0.1120224 0.1120000"
      ]
     },
     "metadata": {},
     "output_type": "display_data"
    }
   ],
   "source": [
    "tail(proba_nueve)"
   ]
  },
  {
   "cell_type": "markdown",
   "id": "1fa2ae3f",
   "metadata": {},
   "source": [
    "Mi simulación sugiere que es más probable que la suma de los dados sea 10"
   ]
  },
  {
   "cell_type": "code",
   "execution_count": null,
   "id": "7f55b3b0",
   "metadata": {},
   "outputs": [],
   "source": []
  }
 ],
 "metadata": {
  "kernelspec": {
   "display_name": "R",
   "language": "R",
   "name": "ir"
  },
  "language_info": {
   "codemirror_mode": "r",
   "file_extension": ".r",
   "mimetype": "text/x-r-source",
   "name": "R",
   "pygments_lexer": "r",
   "version": "3.6.1"
  }
 },
 "nbformat": 4,
 "nbformat_minor": 5
}
